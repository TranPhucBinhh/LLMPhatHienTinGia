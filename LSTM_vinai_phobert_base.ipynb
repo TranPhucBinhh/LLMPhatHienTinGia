{
  "cells": [
    {
      "cell_type": "code",
      "execution_count": 1,
      "metadata": {
        "colab": {
          "base_uri": "https://localhost:8080/"
        },
        "id": "Nhv7TKbk2zeL",
        "outputId": "fc593d02-32fd-4812-daf6-9bd51febbec1"
      },
      "outputs": [],
      "source": [
        "# !pip install transformers\n",
        "# !pip install sentencepiece"
      ]
    },
    {
      "cell_type": "markdown",
      "metadata": {},
      "source": [
        "## Preprocesing data"
      ]
    },
    {
      "cell_type": "code",
      "execution_count": 2,
      "metadata": {
        "id": "8rJZZcbQ19Xx"
      },
      "outputs": [],
      "source": [
        "import numpy as np\n",
        "import pandas as pd\n",
        "import matplotlib.pyplot as plt\n",
        "import torch\n",
        "import seaborn as sns\n",
        "import torch\n",
        "from torch.utils.data import Dataset\n",
        "import torch.nn.utils.rnn as rnn_utils\n"
      ]
    },
    {
      "cell_type": "code",
      "execution_count": 3,
      "metadata": {
        "colab": {
          "base_uri": "https://localhost:8080/"
        },
        "id": "h9Gxrion19Xz",
        "outputId": "37d45a23-3ecd-44c6-af3e-3b00a3405a1f"
      },
      "outputs": [
        {
          "data": {
            "text/plain": [
              "device(type='cuda')"
            ]
          },
          "execution_count": 3,
          "metadata": {},
          "output_type": "execute_result"
        }
      ],
      "source": [
        "# Check if cuda available\n",
        "device = torch.device(\"cuda\" if torch.cuda.is_available() else \"cpu\")\n",
        "device"
      ]
    },
    {
      "cell_type": "code",
      "execution_count": 4,
      "metadata": {
        "id": "ZMiFtcTh19X0"
      },
      "outputs": [
        {
          "name": "stderr",
          "output_type": "stream",
          "text": [
            "/home/ubuntu/miniconda3/envs/tsai_ecg/lib/python3.10/site-packages/tqdm/auto.py:21: TqdmWarning: IProgress not found. Please update jupyter and ipywidgets. See https://ipywidgets.readthedocs.io/en/stable/user_install.html\n",
            "  from .autonotebook import tqdm as notebook_tqdm\n"
          ]
        },
        {
          "name": "stderr",
          "output_type": "stream",
          "text": [
            "Special tokens have been added in the vocabulary, make sure the associated word embeddings are fine-tuned or trained.\n"
          ]
        }
      ],
      "source": [
        "from transformers import AutoTokenizer\n",
        "tokenizer = AutoTokenizer.from_pretrained(\"vinai/phobert-base\")\n",
        "# tokenizer = AutoTokenizer.from_pretrained(\"vinai/bartpho-syllable\")"
      ]
    },
    {
      "cell_type": "code",
      "execution_count": 5,
      "metadata": {
        "id": "YEY0JnrU19X1"
      },
      "outputs": [],
      "source": [
        "class Custom_Text_Dataset(Dataset):\n",
        "    def __init__(self, df_dir, tokenizer):\n",
        "        self.df = pd.read_csv(df_dir)\n",
        "        self.tokenizer = tokenizer\n",
        "\n",
        "    def __len__(self):\n",
        "        return self.df.shape[0]\n",
        "\n",
        "    def __getitem__(self, idx):\n",
        "        text = self.df['post_message'][idx]\n",
        "\n",
        "        label = self.df['label'][idx]\n",
        "        label = torch.tensor(label, dtype=torch.long)\n",
        "\n",
        "        tokens = self.tokenizer.tokenize(text)\n",
        "\n",
        "        ids = self.tokenizer.convert_tokens_to_ids(tokens)\n",
        "        ids = torch.tensor(ids, dtype=torch.long)\n",
        "\n",
        "        length = ids.shape\n",
        "        length = torch.tensor(length, dtype=torch.float32)\n",
        "        # ids = torch.tensor(ids, dtype=torch.long)\n",
        "        # Add 0 so that length of all ids is 7180\n",
        "        # ids = torch.cat((ids, torch.zeros(7180 - len(ids), dtype=torch.long)))\n",
        "\n",
        "        return ids, length, label"
      ]
    },
    {
      "cell_type": "code",
      "execution_count": 6,
      "metadata": {
        "id": "OOKExl-e19X1"
      },
      "outputs": [],
      "source": [
        "train_ds = Custom_Text_Dataset('train.csv', tokenizer)\n",
        "test_ds = Custom_Text_Dataset('test.csv', tokenizer)\n",
        "valid_ds = Custom_Text_Dataset('val.csv', tokenizer)"
      ]
    },
    {
      "cell_type": "code",
      "execution_count": 7,
      "metadata": {
        "id": "5nSZHCSK19X2"
      },
      "outputs": [],
      "source": [
        "from torch.utils.data import DataLoader\n",
        "\n",
        "def custom_collate_fn(batch):\n",
        "    sorted_batch = sorted(batch, key=lambda x: len(x[0]), reverse=True)\n",
        "    return sorted_batch\n",
        "\n",
        "train_dl = DataLoader(train_ds, batch_size=64, collate_fn=custom_collate_fn)\n",
        "test_dl = DataLoader(test_ds, batch_size=64, collate_fn=custom_collate_fn)\n",
        "valid_dl = DataLoader(valid_ds, batch_size = 64, collate_fn = custom_collate_fn)\n"
      ]
    },
    {
      "cell_type": "code",
      "execution_count": 8,
      "metadata": {
        "colab": {
          "base_uri": "https://localhost:8080/"
        },
        "id": "PjrfKHDm19X2",
        "outputId": "5e49febb-25ba-4ec9-bc9c-d49edc2ec94d"
      },
      "outputs": [
        {
          "name": "stderr",
          "output_type": "stream",
          "text": [
            "/tmp/ipykernel_46742/3076340745.py:3: UserWarning: To copy construct from a tensor, it is recommended to use sourceTensor.clone().detach() or sourceTensor.clone().detach().requires_grad_(True), rather than torch.tensor(sourceTensor).\n",
            "  X = [torch.tensor(member[0]) for member in batch]\n"
          ]
        }
      ],
      "source": [
        "training_dl = [ ]\n",
        "for batch in train_dl:\n",
        "    X = [torch.tensor(member[0]) for member in batch]\n",
        "    padded_X = rnn_utils.pad_sequence(X, batch_first=True)\n",
        "    training_dl.append([padded_X, torch.tensor([member[1] for member in batch]), torch.tensor([member[2] for member in batch])])"
      ]
    },
    {
      "cell_type": "code",
      "execution_count": 9,
      "metadata": {
        "colab": {
          "base_uri": "https://localhost:8080/"
        },
        "id": "o512uT3y19X3",
        "outputId": "34597f7a-4fab-4e0b-cb63-86b60bcef9ba"
      },
      "outputs": [
        {
          "name": "stderr",
          "output_type": "stream",
          "text": [
            "/tmp/ipykernel_46742/3796568605.py:3: UserWarning: To copy construct from a tensor, it is recommended to use sourceTensor.clone().detach() or sourceTensor.clone().detach().requires_grad_(True), rather than torch.tensor(sourceTensor).\n",
            "  X = [torch.tensor(member[0]) for member in batch]\n"
          ]
        }
      ],
      "source": [
        "testing_dl = [ ]\n",
        "for batch in test_dl:\n",
        "    X = [torch.tensor(member[0]) for member in batch]\n",
        "    padded_X = rnn_utils.pad_sequence(X, batch_first=True)\n",
        "    testing_dl.append([padded_X, torch.tensor([member[1] for member in batch]), torch.tensor([member[2] for member in batch])])"
      ]
    },
    {
      "cell_type": "code",
      "execution_count": 10,
      "metadata": {
        "colab": {
          "base_uri": "https://localhost:8080/"
        },
        "id": "8Fg02HUVHXQd",
        "outputId": "38c96a62-fbf0-4685-8a2f-b542a306b78b"
      },
      "outputs": [
        {
          "name": "stderr",
          "output_type": "stream",
          "text": [
            "/tmp/ipykernel_46742/2491555698.py:3: UserWarning: To copy construct from a tensor, it is recommended to use sourceTensor.clone().detach() or sourceTensor.clone().detach().requires_grad_(True), rather than torch.tensor(sourceTensor).\n",
            "  X = [torch.tensor(member[0]) for member in batch]\n"
          ]
        }
      ],
      "source": [
        "validing_dl = [ ]\n",
        "for batch in valid_dl:\n",
        "    X = [torch.tensor(member[0]) for member in batch]\n",
        "    padded_X = rnn_utils.pad_sequence(X, batch_first=True)\n",
        "    validing_dl.append([padded_X, torch.tensor([member[1] for member in batch]), torch.tensor([member[2] for member in batch])])"
      ]
    },
    {
      "cell_type": "markdown",
      "metadata": {
        "id": "3wusuII319X3"
      },
      "source": [
        "## Model LSTM"
      ]
    },
    {
      "cell_type": "code",
      "execution_count": 15,
      "metadata": {
        "id": "QgGdKJ1i19X7"
      },
      "outputs": [],
      "source": [
        "# Pytorch's nn module has lots of useful feature\n",
        "import torch.nn as nn\n",
        "\n",
        "class LSTMNet(nn.Module):\n",
        "\n",
        "    def __init__(self,vocab_size,embedding_dim,hidden_dim,output_dim,n_layers,bidirectional,dropout):\n",
        "\n",
        "        super(LSTMNet,self).__init__()\n",
        "\n",
        "        # Embedding layer converts integer sequences to vector sequences\n",
        "        self.embedding = nn.Embedding(vocab_size,embedding_dim)\n",
        "\n",
        "        # LSTM layer process the vector sequences\n",
        "        self.lstm = nn.LSTM(embedding_dim,\n",
        "                            hidden_dim,\n",
        "                            num_layers = n_layers,\n",
        "                            bidirectional = bidirectional,\n",
        "                            dropout = dropout,\n",
        "                            batch_first = True\n",
        "                           )\n",
        "\n",
        "        # Dense layer to predict\n",
        "        self.fc = nn.Linear(hidden_dim * 2,output_dim)\n",
        "        # Prediction activation function\n",
        "        self.sigmoid = nn.Sigmoid()\n",
        "\n",
        "\n",
        "    def forward(self,text,text_lengths):\n",
        "        embedded = self.embedding(text).to(device)\n",
        "\n",
        "        # Thanks to packing, LSTM don't see padding tokens\n",
        "        # and this makes our model better\n",
        "        packed_embedded = nn.utils.rnn.pack_padded_sequence(embedded, text_lengths,batch_first=True)\n",
        "\n",
        "        packed_output,(hidden_state,cell_state) = self.lstm(packed_embedded)\n",
        "\n",
        "        # Concatenating the final forward and backward hidden states\n",
        "        hidden = torch.cat((hidden_state[-2,:,:], hidden_state[-1,:,:]), dim = 1)\n",
        "\n",
        "        dense_outputs=self.fc(hidden)\n",
        "\n",
        "        #Final activation function\n",
        "        outputs=self.sigmoid(dense_outputs)\n",
        "\n",
        "        return outputs"
      ]
    },
    {
      "cell_type": "code",
      "execution_count": 16,
      "metadata": {
        "id": "tD1n4pHq19X7"
      },
      "outputs": [
        {
          "name": "stderr",
          "output_type": "stream",
          "text": [
            "Special tokens have been added in the vocabulary, make sure the associated word embeddings are fine-tuned or trained.\n"
          ]
        }
      ],
      "source": [
        "tokenizer = AutoTokenizer.from_pretrained(\"vinai/phobert-base\")\n",
        "vocab_size = tokenizer.vocab_size \n",
        "embedding_dim = 300\n",
        "hidden_dim = 64\n",
        "output_dim = 1\n",
        "n_layers = 2\n",
        "bidirectional = True\n",
        "dropout = 0.2\n",
        "\n",
        "model = LSTMNet(vocab_size, embedding_dim, hidden_dim, output_dim, n_layers, bidirectional, dropout)\n"
      ]
    },
    {
      "cell_type": "code",
      "execution_count": 17,
      "metadata": {
        "colab": {
          "base_uri": "https://localhost:8080/",
          "height": 442
        },
        "id": "MrXipa8Q19X8",
        "outputId": "4b9137bf-8157-4841-ebfb-53cf6d97ece0"
      },
      "outputs": [],
      "source": [
        "import torch.optim as optim\n",
        "model = model.to(device)\n",
        "optimizer = optim.Adam(model.parameters(),lr=1e-4)\n",
        "criterion = nn.BCELoss()\n",
        "criterion = criterion.to(device)"
      ]
    },
    {
      "cell_type": "code",
      "execution_count": 18,
      "metadata": {
        "id": "c9TxlS2R19X8"
      },
      "outputs": [],
      "source": [
        "def binary_accuracy(preds, y):\n",
        "    #round predictions to the closest integer\n",
        "    rounded_preds = torch.round(preds)\n",
        "\n",
        "    correct = (rounded_preds == y).float()\n",
        "    acc = correct.sum() / len(correct)\n",
        "    return acc"
      ]
    },
    {
      "cell_type": "code",
      "execution_count": 19,
      "metadata": {
        "id": "fOdW5VLe19X9"
      },
      "outputs": [],
      "source": [
        "def train(model,iterator,optimizer,criterion):\n",
        "\n",
        "    epoch_loss = 0.0\n",
        "    epoch_acc = 0.0\n",
        "\n",
        "    model.train()\n",
        "\n",
        "    for batch in iterator:\n",
        "        # cleaning the cache of optimizer\n",
        "        optimizer.zero_grad()\n",
        "\n",
        "        text,text_lengths = batch[0], batch[1]\n",
        "        text = text.to(device)\n",
        "        text_lengths = text_lengths\n",
        "\n",
        "        # forward propagation and squeezing\n",
        "        predictions = model(text,text_lengths)\n",
        "\n",
        "        y_test = batch[2].reshape(-1,1)\n",
        "        y_test = y_test.to(device)\n",
        "        # computing loss / backward propagation\n",
        "\n",
        "        loss = criterion(predictions,y_test.float())\n",
        "        loss.backward()\n",
        "\n",
        "        # accuracy\n",
        "        acc = binary_accuracy(predictions,y_test.float())\n",
        "\n",
        "        # updating params\n",
        "        optimizer.step()\n",
        "\n",
        "        epoch_loss += loss.item()\n",
        "        epoch_acc += acc.item()\n",
        "\n",
        "    # It'll return the means of loss and accuracy\n",
        "    return epoch_loss / len(iterator), epoch_acc / len(iterator)"
      ]
    },
    {
      "cell_type": "code",
      "execution_count": 20,
      "metadata": {
        "id": "7Gso9AVF19X9"
      },
      "outputs": [],
      "source": [
        "def evaluate(model,iterator,criterion):\n",
        "\n",
        "    epoch_loss = 0.0\n",
        "    epoch_acc = 0.0\n",
        "\n",
        "    # deactivate the dropouts\n",
        "    model.eval()\n",
        "\n",
        "    # Sets require_grad flat False\n",
        "    with torch.no_grad():\n",
        "        for batch in iterator:\n",
        "            text,text_lengths = batch[0],batch[1]\n",
        "            text = text.to(device)\n",
        "\n",
        "            predictions = model(text,text_lengths)\n",
        "\n",
        "            #compute loss and accuracy\n",
        "            y_test = batch[2].reshape(-1,1)\n",
        "            y_test = y_test.to(device)\n",
        "\n",
        "            loss = criterion(predictions, y_test.float())\n",
        "\n",
        "            acc = binary_accuracy(predictions, y_test.float())\n",
        "\n",
        "            #keep track of loss and accuracy\n",
        "            epoch_loss += loss.item()\n",
        "            epoch_acc += acc.item()\n",
        "\n",
        "    return epoch_loss / len(iterator), epoch_acc / len(iterator)"
      ]
    },
    {
      "cell_type": "code",
      "execution_count": 34,
      "metadata": {
        "id": "cmZwR8l319X9"
      },
      "outputs": [
        {
          "name": "stdout",
          "output_type": "stream",
          "text": [
            "\tTrain Loss: 0.000 | Train. Acc: 100.00%\n",
            "\tValid Loss: 0.621 | Valid. Acc: 91.91%\n",
            "\n",
            "\tTrain Loss: 0.000 | Train. Acc: 100.00%\n",
            "\tValid Loss: 0.633 | Valid. Acc: 91.71%\n",
            "\n",
            "\tTrain Loss: 0.000 | Train. Acc: 100.00%\n",
            "\tValid Loss: 0.632 | Valid. Acc: 91.91%\n",
            "\n",
            "\tTrain Loss: 0.000 | Train. Acc: 100.00%\n",
            "\tValid Loss: 0.635 | Valid. Acc: 91.71%\n",
            "\n",
            "\tTrain Loss: 0.000 | Train. Acc: 100.00%\n",
            "\tValid Loss: 0.636 | Valid. Acc: 91.52%\n",
            "\n",
            "\tTrain Loss: 0.000 | Train. Acc: 100.00%\n",
            "\tValid Loss: 0.645 | Valid. Acc: 91.52%\n",
            "\n",
            "\tTrain Loss: 0.000 | Train. Acc: 100.00%\n",
            "\tValid Loss: 0.648 | Valid. Acc: 91.52%\n",
            "\n",
            "\tTrain Loss: 0.000 | Train. Acc: 100.00%\n",
            "\tValid Loss: 0.641 | Valid. Acc: 91.52%\n",
            "\n",
            "\tTrain Loss: 0.000 | Train. Acc: 100.00%\n",
            "\tValid Loss: 0.649 | Valid. Acc: 91.52%\n",
            "\n",
            "\tTrain Loss: 0.000 | Train. Acc: 100.00%\n",
            "\tValid Loss: 0.655 | Valid. Acc: 91.52%\n",
            "\n",
            "\tTrain Loss: 0.000 | Train. Acc: 100.00%\n",
            "\tValid Loss: 0.656 | Valid. Acc: 91.52%\n",
            "\n",
            "\tTrain Loss: 0.000 | Train. Acc: 100.00%\n",
            "\tValid Loss: 0.661 | Valid. Acc: 91.52%\n",
            "\n",
            "\tTrain Loss: 0.000 | Train. Acc: 100.00%\n",
            "\tValid Loss: 0.655 | Valid. Acc: 91.52%\n",
            "\n",
            "\tTrain Loss: 0.000 | Train. Acc: 100.00%\n",
            "\tValid Loss: 0.661 | Valid. Acc: 91.32%\n",
            "\n",
            "\tTrain Loss: 0.000 | Train. Acc: 100.00%\n",
            "\tValid Loss: 0.688 | Valid. Acc: 91.32%\n",
            "\n",
            "\tTrain Loss: 0.000 | Train. Acc: 100.00%\n",
            "\tValid Loss: 0.668 | Valid. Acc: 91.32%\n",
            "\n",
            "\tTrain Loss: 0.000 | Train. Acc: 100.00%\n",
            "\tValid Loss: 0.674 | Valid. Acc: 91.13%\n",
            "\n",
            "\tTrain Loss: 0.000 | Train. Acc: 100.00%\n",
            "\tValid Loss: 0.683 | Valid. Acc: 91.32%\n",
            "\n",
            "\tTrain Loss: 0.000 | Train. Acc: 100.00%\n",
            "\tValid Loss: 0.685 | Valid. Acc: 91.32%\n",
            "\n",
            "\tTrain Loss: 0.000 | Train. Acc: 100.00%\n",
            "\tValid Loss: 0.684 | Valid. Acc: 91.32%\n",
            "\n",
            "\tTrain Loss: 0.000 | Train. Acc: 100.00%\n",
            "\tValid Loss: 0.686 | Valid. Acc: 91.52%\n",
            "\n",
            "\tTrain Loss: 0.000 | Train. Acc: 100.00%\n",
            "\tValid Loss: 0.686 | Valid. Acc: 91.52%\n",
            "\n",
            "\tTrain Loss: 0.000 | Train. Acc: 100.00%\n",
            "\tValid Loss: 0.698 | Valid. Acc: 91.32%\n",
            "\n",
            "\tTrain Loss: 0.000 | Train. Acc: 100.00%\n",
            "\tValid Loss: 0.709 | Valid. Acc: 91.32%\n",
            "\n",
            "\tTrain Loss: 0.000 | Train. Acc: 100.00%\n",
            "\tValid Loss: 0.681 | Valid. Acc: 91.52%\n",
            "\n",
            "\tTrain Loss: 0.000 | Train. Acc: 100.00%\n",
            "\tValid Loss: 0.689 | Valid. Acc: 91.32%\n",
            "\n",
            "\tTrain Loss: 0.000 | Train. Acc: 100.00%\n",
            "\tValid Loss: 0.695 | Valid. Acc: 91.52%\n",
            "\n",
            "\tTrain Loss: 0.000 | Train. Acc: 100.00%\n",
            "\tValid Loss: 0.700 | Valid. Acc: 91.32%\n",
            "\n",
            "\tTrain Loss: 0.000 | Train. Acc: 100.00%\n",
            "\tValid Loss: 0.704 | Valid. Acc: 91.52%\n",
            "\n",
            "\tTrain Loss: 0.000 | Train. Acc: 100.00%\n",
            "\tValid Loss: 0.714 | Valid. Acc: 91.32%\n",
            "\n",
            "\tTrain Loss: 0.000 | Train. Acc: 100.00%\n",
            "\tValid Loss: 0.715 | Valid. Acc: 91.32%\n",
            "\n",
            "\tTrain Loss: 0.000 | Train. Acc: 100.00%\n",
            "\tValid Loss: 0.718 | Valid. Acc: 91.32%\n",
            "\n",
            "\tTrain Loss: 0.000 | Train. Acc: 100.00%\n",
            "\tValid Loss: 0.733 | Valid. Acc: 91.32%\n",
            "\n",
            "\tTrain Loss: 0.000 | Train. Acc: 100.00%\n",
            "\tValid Loss: 0.742 | Valid. Acc: 91.32%\n",
            "\n",
            "\tTrain Loss: 0.000 | Train. Acc: 100.00%\n",
            "\tValid Loss: 0.744 | Valid. Acc: 91.32%\n",
            "\n",
            "\tTrain Loss: 0.000 | Train. Acc: 100.00%\n",
            "\tValid Loss: 0.747 | Valid. Acc: 91.32%\n",
            "\n",
            "\tTrain Loss: 0.000 | Train. Acc: 100.00%\n",
            "\tValid Loss: 0.749 | Valid. Acc: 91.32%\n",
            "\n",
            "\tTrain Loss: 0.000 | Train. Acc: 100.00%\n",
            "\tValid Loss: 0.754 | Valid. Acc: 91.32%\n",
            "\n",
            "\tTrain Loss: 0.000 | Train. Acc: 100.00%\n",
            "\tValid Loss: 0.733 | Valid. Acc: 91.46%\n",
            "\n",
            "\tTrain Loss: 0.000 | Train. Acc: 100.00%\n",
            "\tValid Loss: 0.749 | Valid. Acc: 91.32%\n",
            "\n"
          ]
        }
      ],
      "source": [
        "EPOCH_NUMBER = 40\n",
        "best_valid = 0.93\n",
        "\n",
        "for epoch in range(1,EPOCH_NUMBER+1):\n",
        "\n",
        "    train_loss,train_acc = train(model,training_dl,optimizer,criterion)\n",
        "\n",
        "    test_loss,test_acc = evaluate(model,testing_dl,criterion)\n",
        "    valid_loss, valid_acc = evaluate(model, validing_dl, criterion)\n",
        "\n",
        "    # Showing statistics\n",
        "    print(f'\\tTrain Loss: {train_loss:.3f} | Train. Acc: {train_acc*100:.2f}%')\n",
        "    print(f'\\tValid Loss: {valid_loss:.3f} | Valid. Acc: {valid_acc*100:.2f}%')\n",
        "    if (valid_acc >= best_valid ):\n",
        "      best_valid = valid_acc\n",
        "      torch.save(model.state_dict(), f'model_{valid_acc}.pth')\n",
        "      print(f'Test. Acc: {test_acc*100:.2f}%')\n",
        "    print()"
      ]
    },
    {
      "cell_type": "code",
      "execution_count": 22,
      "metadata": {
        "id": "1mkv2VfG8jps"
      },
      "outputs": [],
      "source": [
        "import matplotlib.pyplot as plt\n",
        "import seaborn as sns\n",
        "from sklearn.metrics import confusion_matrix\n",
        "from sklearn.metrics import confusion_matrix, precision_score, recall_score, f1_score, accuracy_score\n"
      ]
    },
    {
      "cell_type": "code",
      "execution_count": 30,
      "metadata": {
        "id": "gxRnQTUA8yKe"
      },
      "outputs": [
        {
          "name": "stdout",
          "output_type": "stream",
          "text": [
            "Loss: 0.5325 | Accuracy: 0.9269 | Precision: 0.8529 | Recall: 0.7073 | F1: 0.7733\n"
          ]
        },
        {
          "data": {
            "image/png": "[encoded data removed]",
            "text/plain": [
              "<Figure size 1000x800 with 2 Axes>"
            ]
          },
          "metadata": {},
          "output_type": "display_data"
        }
      ],
      "source": [
        "def evaluate2(model, iterator, criterion):\n",
        "    epoch_loss = 0.0\n",
        "    epoch_acc = 0.0\n",
        "    y_true = []\n",
        "    y_pred = []\n",
        "\n",
        "    # deactivate the dropouts\n",
        "    model.eval()\n",
        "\n",
        "    # Sets require_grad flat False\n",
        "    with torch.no_grad():\n",
        "        for batch in iterator:\n",
        "            text, text_lengths = batch[0], batch[1]\n",
        "            text = text.to(device)\n",
        "\n",
        "            predictions = model(text, text_lengths)\n",
        "            y_test = batch[2].reshape(-1, 1)\n",
        "            y_test = y_test.to(device)\n",
        "\n",
        "            loss = criterion(predictions, y_test.float())\n",
        "\n",
        "            acc = binary_accuracy(predictions, y_test.float())\n",
        "\n",
        "            # Keep track of loss and accuracy\n",
        "            epoch_loss += loss.item()\n",
        "            epoch_acc += acc.item()\n",
        "\n",
        "            # Append predicted and true labels to the lists\n",
        "            y_pred.extend(torch.round(predictions).cpu().numpy())\n",
        "            y_true.extend(y_test.cpu().numpy())\n",
        "\n",
        "    avg_loss = epoch_loss / len(iterator)\n",
        "    avg_acc = epoch_acc / len(iterator)\n",
        "\n",
        "    precision = precision_score(y_true, y_pred)\n",
        "    recall = recall_score(y_true, y_pred)\n",
        "    f1 = f1_score(y_true, y_pred)\n",
        "    accuracy = accuracy_score(y_true, y_pred)\n",
        "\n",
        "    return avg_loss, avg_acc, precision, recall, f1, accuracy, y_true, y_pred\n",
        "\n",
        "\n",
        "loss, accuracy, precision, recall, f1, accuracy_sklearn, true_labels, predicted_labels = evaluate2(model, validing_dl, criterion)\n",
        "\n",
        "# Print the evaluation metrics\n",
        "print(f\"Loss: {loss:.4f} | Accuracy: {accuracy:.4f} | Precision: {precision:.4f} | Recall: {recall:.4f} | F1: {f1:.4f}\")\n",
        "# Calculate the confusion matrix\n",
        "cm = confusion_matrix(true_labels, predicted_labels)\n",
        "\n",
        "# Plot the confusion matrix\n",
        "plt.figure(figsize=(10, 8))\n",
        "sns.heatmap(cm, annot=True, fmt='d', cmap='Blues', xticklabels=[0, 1], yticklabels=[0, 1])\n",
        "plt.xlabel('Predicted Labels')\n",
        "plt.ylabel('True Labels')\n",
        "plt.title('Confusion Matrix using pre-trained model phobert')\n",
        "plt.show()\n"
      ]
    },
    {
      "cell_type": "code",
      "execution_count": 31,
      "metadata": {
        "id": "3wF9CFghjr8J"
      },
      "outputs": [],
      "source": [
        "def input_test(text, tokenizer, model, device):\n",
        "    tokens = tokenizer.tokenize(text)\n",
        "    ids = tokenizer.convert_tokens_to_ids(tokens)\n",
        "    ids = torch.tensor(ids, dtype=torch.long).unsqueeze(0)\n",
        "\n",
        "    ids = ids.to(device)\n",
        "\n",
        "    # Get the length of the input sequence\n",
        "    length = torch.tensor(ids.shape[1], dtype=torch.long).unsqueeze(0)\n",
        "\n",
        "    # Evaluate the model on the input text\n",
        "    with torch.no_grad():\n",
        "        model.eval()\n",
        "        predictions = model(ids, length)\n",
        "\n",
        "\n",
        "    binary_predictions = torch.round(predictions).cpu().numpy()\n",
        "\n",
        "    return binary_predictions[0][0]\n"
      ]
    },
    {
      "cell_type": "code",
      "execution_count": 25,
      "metadata": {
        "id": "5L5vS-Yhs1rh"
      },
      "outputs": [
        {
          "name": "stdout",
          "output_type": "stream",
          "text": [
            "Đây là tin giả\n",
            "Predicted Label: 1.0\n"
          ]
        }
      ],
      "source": [
        "A = input(\"Enter the text you want to test: \")\n",
        "result = input_test(A, tokenizer, model, device)\n",
        "\n",
        "if (int(result) == 0):\n",
        "  print(\"Đây là tin thật\")\n",
        "else:\n",
        "  print(\"Đây là tin giả\")\n",
        "\n",
        "print(\"Predicted Label:\", result)"
      ]
    }
  ],
  "metadata": {
    "accelerator": "GPU",
    "colab": {
      "provenance": []
    },
    "kernelspec": {
      "display_name": "tsai_ecg",
      "language": "python",
      "name": "tsai_ecg"
    }
  },
  "nbformat": 4,
  "nbformat_minor": 0
}
