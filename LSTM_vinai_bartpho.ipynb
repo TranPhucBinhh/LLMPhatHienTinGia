{
  "cells": [
    {
      "cell_type": "code",
      "execution_count": 1,
      "metadata": {
        "colab": {
          "base_uri": "https://localhost:8080/"
        },
        "id": "Nhv7TKbk2zeL",
        "outputId": "d305c807-144b-4995-de9f-9db3c130d3a7"
      },
      "outputs": [
        {
          "output_type": "stream",
          "name": "stdout",
          "text": [
            "Collecting transformers\n",
            "  Downloading transformers-4.31.0-py3-none-any.whl (7.4 MB)\n",
            "\u001b[2K     \u001b[90m━━━━━━━━━━━━━━━━━━━━━━━━━━━━━━━━━━━━━━━━\u001b[0m \u001b[32m7.4/7.4 MB\u001b[0m \u001b[31m21.7 MB/s\u001b[0m eta \u001b[36m0:00:00\u001b[0m\n",
            "\u001b[?25hRequirement already satisfied: filelock in /usr/local/lib/python3.10/dist-packages (from transformers) (3.12.2)\n",
            "Collecting huggingface-hub<1.0,>=0.14.1 (from transformers)\n",
            "  Downloading huggingface_hub-0.16.4-py3-none-any.whl (268 kB)\n",
            "\u001b[2K     \u001b[90m━━━━━━━━━━━━━━━━━━━━━━━━━━━━━━━━━━━━━━\u001b[0m \u001b[32m268.8/268.8 kB\u001b[0m \u001b[31m34.3 MB/s\u001b[0m eta \u001b[36m0:00:00\u001b[0m\n",
            "\u001b[?25hRequirement already satisfied: numpy>=1.17 in /usr/local/lib/python3.10/dist-packages (from transformers) (1.22.4)\n",
            "Requirement already satisfied: packaging>=20.0 in /usr/local/lib/python3.10/dist-packages (from transformers) (23.1)\n",
            "Requirement already satisfied: pyyaml>=5.1 in /usr/local/lib/python3.10/dist-packages (from transformers) (6.0.1)\n",
            "Requirement already satisfied: regex!=2019.12.17 in /usr/local/lib/python3.10/dist-packages (from transformers) (2022.10.31)\n",
            "Requirement already satisfied: requests in /usr/local/lib/python3.10/dist-packages (from transformers) (2.27.1)\n",
            "Collecting tokenizers!=0.11.3,<0.14,>=0.11.1 (from transformers)\n",
            "  Downloading tokenizers-0.13.3-cp310-cp310-manylinux_2_17_x86_64.manylinux2014_x86_64.whl (7.8 MB)\n",
            "\u001b[2K     \u001b[90m━━━━━━━━━━━━━━━━━━━━━━━━━━━━━━━━━━━━━━━━\u001b[0m \u001b[32m7.8/7.8 MB\u001b[0m \u001b[31m61.4 MB/s\u001b[0m eta \u001b[36m0:00:00\u001b[0m\n",
            "\u001b[?25hCollecting safetensors>=0.3.1 (from transformers)\n",
            "  Downloading safetensors-0.3.1-cp310-cp310-manylinux_2_17_x86_64.manylinux2014_x86_64.whl (1.3 MB)\n",
            "\u001b[2K     \u001b[90m━━━━━━━━━━━━━━━━━━━━━━━━━━━━━━━━━━━━━━━━\u001b[0m \u001b[32m1.3/1.3 MB\u001b[0m \u001b[31m67.0 MB/s\u001b[0m eta \u001b[36m0:00:00\u001b[0m\n",
            "\u001b[?25hRequirement already satisfied: tqdm>=4.27 in /usr/local/lib/python3.10/dist-packages (from transformers) (4.65.0)\n",
            "Requirement already satisfied: fsspec in /usr/local/lib/python3.10/dist-packages (from huggingface-hub<1.0,>=0.14.1->transformers) (2023.6.0)\n",
            "Requirement already satisfied: typing-extensions>=3.7.4.3 in /usr/local/lib/python3.10/dist-packages (from huggingface-hub<1.0,>=0.14.1->transformers) (4.7.1)\n",
            "Requirement already satisfied: urllib3<1.27,>=1.21.1 in /usr/local/lib/python3.10/dist-packages (from requests->transformers) (1.26.16)\n",
            "Requirement already satisfied: certifi>=2017.4.17 in /usr/local/lib/python3.10/dist-packages (from requests->transformers) (2023.7.22)\n",
            "Requirement already satisfied: charset-normalizer~=2.0.0 in /usr/local/lib/python3.10/dist-packages (from requests->transformers) (2.0.12)\n",
            "Requirement already satisfied: idna<4,>=2.5 in /usr/local/lib/python3.10/dist-packages (from requests->transformers) (3.4)\n",
            "Installing collected packages: tokenizers, safetensors, huggingface-hub, transformers\n",
            "Successfully installed huggingface-hub-0.16.4 safetensors-0.3.1 tokenizers-0.13.3 transformers-4.31.0\n",
            "Collecting sentencepiece\n",
            "  Downloading sentencepiece-0.1.99-cp310-cp310-manylinux_2_17_x86_64.manylinux2014_x86_64.whl (1.3 MB)\n",
            "\u001b[2K     \u001b[90m━━━━━━━━━━━━━━━━━━━━━━━━━━━━━━━━━━━━━━━━\u001b[0m \u001b[32m1.3/1.3 MB\u001b[0m \u001b[31m14.8 MB/s\u001b[0m eta \u001b[36m0:00:00\u001b[0m\n",
            "\u001b[?25hInstalling collected packages: sentencepiece\n",
            "Successfully installed sentencepiece-0.1.99\n"
          ]
        }
      ],
      "source": [
        "!pip install transformers\n",
        "!pip install sentencepiece"
      ]
    },
    {
      "cell_type": "code",
      "execution_count": 2,
      "metadata": {
        "id": "8rJZZcbQ19Xx"
      },
      "outputs": [],
      "source": [
        "import numpy as np\n",
        "import pandas as pd\n",
        "import matplotlib.pyplot as plt\n",
        "import torch\n",
        "import seaborn as sns\n",
        "import torch\n",
        "from torch.utils.data import Dataset\n",
        "import torch.nn.utils.rnn as rnn_utils\n",
        "\n",
        "from torchtext import data"
      ]
    },
    {
      "cell_type": "code",
      "execution_count": 3,
      "metadata": {
        "colab": {
          "base_uri": "https://localhost:8080/"
        },
        "id": "h9Gxrion19Xz",
        "outputId": "1c08110f-64c3-4b86-cbba-1cf94e9fd377"
      },
      "outputs": [
        {
          "output_type": "execute_result",
          "data": {
            "text/plain": [
              "device(type='cuda')"
            ]
          },
          "metadata": {},
          "execution_count": 3
        }
      ],
      "source": [
        "# Check if cuda available\n",
        "device = torch.device(\"cuda\" if torch.cuda.is_available() else \"cpu\")\n",
        "device"
      ]
    },
    {
      "cell_type": "markdown",
      "source": [
        "## Preprocessing Data"
      ],
      "metadata": {
        "id": "orn5XDepknEx"
      }
    },
    {
      "cell_type": "code",
      "execution_count": 4,
      "metadata": {
        "id": "ZMiFtcTh19X0",
        "colab": {
          "base_uri": "https://localhost:8080/",
          "height": 113,
          "referenced_widgets": [
            "4ba9a17be37f4e4c984c1d5b30c227de",
            "5fbcdc0a820847f2b3b047e14ff32066",
            "b5c05c82cbe64536aa35690df5c31bfa",
            "edbc3a862b0c40279550797be6eb696b",
            "5e9e254a3c174d47a35e914217bd7e2e",
            "48f143002da1411587342070c913b41d",
            "038a7a3f1c904d8d8a145c74caf35059",
            "537939aa7d0a4a5e92b249d8911b5acb",
            "bcbfebc3915d4856aff2010fd379b425",
            "8841cbe2c256421d963ec36f9fb6bec9",
            "acebd04d929b46fbba89942653ee9e11",
            "81bc0a2fdba144849dcda39a846d4111",
            "fecc0c6246da427ba54307dbec8dab89",
            "1230a40d0e2240e9a61ca0f21c4fa4fb",
            "0718f3ef61564d168cc322021dacd8c5",
            "37144d85b3a54fc997c676d2680a24e1",
            "837d3ebf43c843aead7cd8fc966ec232",
            "44e2b6a238cd42e5a5b62510ad5d48e5",
            "4c8f80e177b440a48e1c68d9ca75affc",
            "81fd0506dc764990b3184044557e20d8",
            "4ee1fe7ec8524042a7be3397e0e16866",
            "d1a0318bf72548cda4ad1eb07078d537",
            "8600851760884c249f248f0232e478be",
            "4d64fc4c19de486d944361c66ef6f1f9",
            "26480fe8f02d41fb8e73989d4d6624fc",
            "0357152d8fa9440c947d5c20a24eb295",
            "5281bfaa0eb140d8ae377134755427e6",
            "060e81754bad48219fb91da9f9c8de93",
            "bf1d4daa70034e218247848bd3edcc2c",
            "4d657a7d859a48a3866e729f78d5dfaa",
            "618d63a6313444949b009859445db190",
            "5b030ad07ceb43e78b49f0869b80eb86",
            "167ac7de909b4003b734a2c3ff5f0370"
          ]
        },
        "outputId": "7a4e81c5-1009-47f4-936d-cbd066a74a53"
      },
      "outputs": [
        {
          "output_type": "display_data",
          "data": {
            "text/plain": [
              "Downloading (…)lve/main/config.json:   0%|          | 0.00/897 [00:00<?, ?B/s]"
            ],
            "application/vnd.jupyter.widget-view+json": {
              "version_major": 2,
              "version_minor": 0,
              "model_id": "4ba9a17be37f4e4c984c1d5b30c227de"
            }
          },
          "metadata": {}
        },
        {
          "output_type": "display_data",
          "data": {
            "text/plain": [
              "Downloading (…)tencepiece.bpe.model:   0%|          | 0.00/5.07M [00:00<?, ?B/s]"
            ],
            "application/vnd.jupyter.widget-view+json": {
              "version_major": 2,
              "version_minor": 0,
              "model_id": "81bc0a2fdba144849dcda39a846d4111"
            }
          },
          "metadata": {}
        },
        {
          "output_type": "display_data",
          "data": {
            "text/plain": [
              "Downloading (…)esolve/main/dict.txt:   0%|          | 0.00/360k [00:00<?, ?B/s]"
            ],
            "application/vnd.jupyter.widget-view+json": {
              "version_major": 2,
              "version_minor": 0,
              "model_id": "8600851760884c249f248f0232e478be"
            }
          },
          "metadata": {}
        }
      ],
      "source": [
        "from transformers import AutoTokenizer\n",
        "tokenizer = AutoTokenizer.from_pretrained(\"vinai/bartpho-syllable\")"
      ]
    },
    {
      "cell_type": "code",
      "execution_count": 5,
      "metadata": {
        "id": "YEY0JnrU19X1"
      },
      "outputs": [],
      "source": [
        "class Custom_Text_Dataset(Dataset):\n",
        "    def __init__(self, df_dir, tokenizer):\n",
        "        self.df = pd.read_csv(df_dir)\n",
        "        self.tokenizer = tokenizer\n",
        "\n",
        "    def __len__(self):\n",
        "        return self.df.shape[0]\n",
        "\n",
        "    def __getitem__(self, idx):\n",
        "        text = self.df['post_message'][idx]\n",
        "\n",
        "        label = self.df['label'][idx]\n",
        "        label = torch.tensor(label, dtype=torch.long)\n",
        "\n",
        "        tokens = self.tokenizer.tokenize(text)\n",
        "\n",
        "        ids = self.tokenizer.convert_tokens_to_ids(tokens)\n",
        "        ids = torch.tensor(ids, dtype=torch.long)\n",
        "\n",
        "        length = ids.shape\n",
        "        length = torch.tensor(length, dtype=torch.float32)\n",
        "        # ids = torch.tensor(ids, dtype=torch.long)\n",
        "        # Add 0 so that length of all ids is 7180\n",
        "        # ids = torch.cat((ids, torch.zeros(7180 - len(ids), dtype=torch.long)))\n",
        "\n",
        "        return ids, length, label"
      ]
    },
    {
      "cell_type": "code",
      "execution_count": 6,
      "metadata": {
        "id": "OOKExl-e19X1"
      },
      "outputs": [],
      "source": [
        "train_ds = Custom_Text_Dataset('/content/train.csv', tokenizer)\n",
        "test_ds = Custom_Text_Dataset('/content/test.csv', tokenizer)\n",
        "valid_ds = Custom_Text_Dataset('/content/val.csv', tokenizer)"
      ]
    },
    {
      "cell_type": "code",
      "execution_count": 7,
      "metadata": {
        "id": "5nSZHCSK19X2"
      },
      "outputs": [],
      "source": [
        "from torch.utils.data import DataLoader\n",
        "\n",
        "def custom_collate_fn(batch):\n",
        "    sorted_batch = sorted(batch, key=lambda x: len(x[0]), reverse=True)\n",
        "    return sorted_batch\n",
        "\n",
        "train_dl = DataLoader(train_ds, batch_size=64, collate_fn=custom_collate_fn)\n",
        "test_dl = DataLoader(test_ds, batch_size=64, collate_fn=custom_collate_fn)\n",
        "valid_dl = DataLoader(valid_ds, batch_size = 64, collate_fn = custom_collate_fn)\n"
      ]
    },
    {
      "cell_type": "code",
      "execution_count": 8,
      "metadata": {
        "colab": {
          "base_uri": "https://localhost:8080/"
        },
        "id": "PjrfKHDm19X2",
        "outputId": "58cb3025-35d7-427e-bdab-3a8ec083a1dc"
      },
      "outputs": [
        {
          "output_type": "stream",
          "name": "stderr",
          "text": [
            "<ipython-input-8-557e0d167fb8>:3: UserWarning: To copy construct from a tensor, it is recommended to use sourceTensor.clone().detach() or sourceTensor.clone().detach().requires_grad_(True), rather than torch.tensor(sourceTensor).\n",
            "  X = [torch.tensor(member[0]) for member in batch]\n"
          ]
        }
      ],
      "source": [
        "training_dl = [ ]\n",
        "for batch in train_dl:\n",
        "    X = [torch.tensor(member[0]) for member in batch]\n",
        "    padded_X = rnn_utils.pad_sequence(X, batch_first=True)\n",
        "    training_dl.append([padded_X, torch.tensor([member[1] for member in batch]), torch.tensor([member[2] for member in batch])])"
      ]
    },
    {
      "cell_type": "code",
      "execution_count": 9,
      "metadata": {
        "colab": {
          "base_uri": "https://localhost:8080/"
        },
        "id": "o512uT3y19X3",
        "outputId": "00287f10-8ea4-485a-b367-13db5b4c2b7e"
      },
      "outputs": [
        {
          "output_type": "stream",
          "name": "stderr",
          "text": [
            "<ipython-input-9-2301d6a2f884>:3: UserWarning: To copy construct from a tensor, it is recommended to use sourceTensor.clone().detach() or sourceTensor.clone().detach().requires_grad_(True), rather than torch.tensor(sourceTensor).\n",
            "  X = [torch.tensor(member[0]) for member in batch]\n"
          ]
        }
      ],
      "source": [
        "testing_dl = [ ]\n",
        "for batch in test_dl:\n",
        "    X = [torch.tensor(member[0]) for member in batch]\n",
        "    padded_X = rnn_utils.pad_sequence(X, batch_first=True)\n",
        "    testing_dl.append([padded_X, torch.tensor([member[1] for member in batch]), torch.tensor([member[2] for member in batch])])"
      ]
    },
    {
      "cell_type": "code",
      "source": [
        "validing_dl = [ ]\n",
        "for batch in valid_dl:\n",
        "    X = [torch.tensor(member[0]) for member in batch]\n",
        "    padded_X = rnn_utils.pad_sequence(X, batch_first=True)\n",
        "    validing_dl.append([padded_X, torch.tensor([member[1] for member in batch]), torch.tensor([member[2] for member in batch])])"
      ],
      "metadata": {
        "colab": {
          "base_uri": "https://localhost:8080/"
        },
        "id": "8Fg02HUVHXQd",
        "outputId": "49a3507f-4050-442b-9217-6668e1e9e60c"
      },
      "execution_count": 10,
      "outputs": [
        {
          "output_type": "stream",
          "name": "stderr",
          "text": [
            "<ipython-input-10-70c2a6c926af>:3: UserWarning: To copy construct from a tensor, it is recommended to use sourceTensor.clone().detach() or sourceTensor.clone().detach().requires_grad_(True), rather than torch.tensor(sourceTensor).\n",
            "  X = [torch.tensor(member[0]) for member in batch]\n"
          ]
        }
      ]
    },
    {
      "cell_type": "markdown",
      "metadata": {
        "id": "3wusuII319X3"
      },
      "source": [
        "## Model LSTM"
      ]
    },
    {
      "cell_type": "code",
      "execution_count": 11,
      "metadata": {
        "id": "QgGdKJ1i19X7"
      },
      "outputs": [],
      "source": [
        "# Pytorch's nn module has lots of useful feature\n",
        "import torch.nn as nn\n",
        "\n",
        "class LSTMNet(nn.Module):\n",
        "\n",
        "    def __init__(self,vocab_size,embedding_dim,hidden_dim,output_dim,n_layers,bidirectional,dropout):\n",
        "\n",
        "        super(LSTMNet,self).__init__()\n",
        "\n",
        "        # Embedding layer converts integer sequences to vector sequences\n",
        "        self.embedding = nn.Embedding(vocab_size,embedding_dim)\n",
        "\n",
        "        # LSTM layer process the vector sequences\n",
        "        self.lstm = nn.LSTM(embedding_dim,\n",
        "                            hidden_dim,\n",
        "                            num_layers = n_layers,\n",
        "                            bidirectional = bidirectional,\n",
        "                            dropout = dropout,\n",
        "                            batch_first = True\n",
        "                           )\n",
        "\n",
        "        # Dense layer to predict\n",
        "        self.fc = nn.Linear(hidden_dim * 2,output_dim)\n",
        "        # Prediction activation function\n",
        "        self.sigmoid = nn.Sigmoid()\n",
        "\n",
        "\n",
        "    def forward(self,text,text_lengths):\n",
        "        embedded = self.embedding(text).to(device)\n",
        "\n",
        "        # Thanks to packing, LSTM don't see padding tokens\n",
        "        # and this makes our model better\n",
        "        packed_embedded = nn.utils.rnn.pack_padded_sequence(embedded, text_lengths,batch_first=True)\n",
        "\n",
        "        packed_output,(hidden_state,cell_state) = self.lstm(packed_embedded)\n",
        "\n",
        "        # Concatenating the final forward and backward hidden states\n",
        "        hidden = torch.cat((hidden_state[-2,:,:], hidden_state[-1,:,:]), dim = 1)\n",
        "\n",
        "        dense_outputs=self.fc(hidden)\n",
        "\n",
        "        #Final activation function\n",
        "        outputs=self.sigmoid(dense_outputs)\n",
        "\n",
        "        return outputs"
      ]
    },
    {
      "cell_type": "code",
      "execution_count": 12,
      "metadata": {
        "id": "tD1n4pHq19X7"
      },
      "outputs": [],
      "source": [
        "tokenizer = AutoTokenizer.from_pretrained(\"vinai/bartpho-syllable\")\n",
        "vocab_size = tokenizer.vocab_size - 1\n",
        "embedding_dim = 100\n",
        "hidden_dim = 64\n",
        "output_dim = 1\n",
        "n_layers = 2\n",
        "bidirectional = True\n",
        "dropout = 0.2\n",
        "\n",
        "model = LSTMNet(vocab_size, embedding_dim, hidden_dim, output_dim, n_layers, bidirectional, dropout)\n"
      ]
    },
    {
      "cell_type": "code",
      "execution_count": 13,
      "metadata": {
        "id": "MrXipa8Q19X8"
      },
      "outputs": [],
      "source": [
        "import torch.optim as optim\n",
        "model = model.to(device)\n",
        "optimizer = optim.Adam(model.parameters(),lr=1e-4)\n",
        "criterion = nn.BCELoss()\n",
        "criterion = criterion.to(device)"
      ]
    },
    {
      "cell_type": "code",
      "execution_count": 14,
      "metadata": {
        "id": "c9TxlS2R19X8"
      },
      "outputs": [],
      "source": [
        "def binary_accuracy(preds, y):\n",
        "    #round predictions to the closest integer\n",
        "    rounded_preds = torch.round(preds)\n",
        "\n",
        "    correct = (rounded_preds == y).float()\n",
        "    acc = correct.sum() / len(correct)\n",
        "    return acc"
      ]
    },
    {
      "cell_type": "code",
      "execution_count": 15,
      "metadata": {
        "id": "fOdW5VLe19X9"
      },
      "outputs": [],
      "source": [
        "def train(model,iterator,optimizer,criterion):\n",
        "\n",
        "    epoch_loss = 0.0\n",
        "    epoch_acc = 0.0\n",
        "\n",
        "    model.train()\n",
        "\n",
        "    for batch in iterator:\n",
        "        # cleaning the cache of optimizer\n",
        "        optimizer.zero_grad()\n",
        "\n",
        "        text,text_lengths = batch[0], batch[1]\n",
        "        text = text.to(device)\n",
        "        text_lengths = text_lengths\n",
        "\n",
        "        # forward propagation and squeezing\n",
        "        predictions = model(text,text_lengths)\n",
        "\n",
        "        y_test = batch[2].reshape(-1,1)\n",
        "        y_test = y_test.to(device)\n",
        "        # computing loss / backward propagation\n",
        "\n",
        "        loss = criterion(predictions,y_test.float())\n",
        "        loss.backward()\n",
        "\n",
        "        # accuracy\n",
        "        acc = binary_accuracy(predictions,y_test.float())\n",
        "\n",
        "        # updating params\n",
        "        optimizer.step()\n",
        "\n",
        "        epoch_loss += loss.item()\n",
        "        epoch_acc += acc.item()\n",
        "\n",
        "    # It'll return the means of loss and accuracy\n",
        "    return epoch_loss / len(iterator), epoch_acc / len(iterator)"
      ]
    },
    {
      "cell_type": "code",
      "execution_count": 16,
      "metadata": {
        "id": "7Gso9AVF19X9"
      },
      "outputs": [],
      "source": [
        "def evaluate(model,iterator,criterion):\n",
        "\n",
        "    epoch_loss = 0.0\n",
        "    epoch_acc = 0.0\n",
        "\n",
        "    # deactivate the dropouts\n",
        "    model.eval()\n",
        "\n",
        "    # Sets require_grad flat False\n",
        "    with torch.no_grad():\n",
        "        for batch in iterator:\n",
        "            text,text_lengths = batch[0],batch[1]\n",
        "            text = text.to(device)\n",
        "\n",
        "            predictions = model(text,text_lengths)\n",
        "\n",
        "            #compute loss and accuracy\n",
        "            y_test = batch[2].reshape(-1,1)\n",
        "            y_test = y_test.to(device)\n",
        "\n",
        "            loss = criterion(predictions, y_test.float())\n",
        "\n",
        "            acc = binary_accuracy(predictions, y_test.float())\n",
        "\n",
        "            #keep track of loss and accuracy\n",
        "            epoch_loss += loss.item()\n",
        "            epoch_acc += acc.item()\n",
        "\n",
        "    return epoch_loss / len(iterator), epoch_acc / len(iterator)"
      ]
    },
    {
      "cell_type": "code",
      "source": [
        "model.load_state_dict(torch.load('/content/model.pth'))\n",
        "model = model.to(device)\n"
      ],
      "metadata": {
        "id": "isNesRF-IUFz"
      },
      "execution_count": 17,
      "outputs": []
    },
    {
      "cell_type": "code",
      "execution_count": 41,
      "metadata": {
        "colab": {
          "base_uri": "https://localhost:8080/"
        },
        "id": "cmZwR8l319X9",
        "outputId": "49998ac2-ec61-413e-9371-b12cf3892260"
      },
      "outputs": [
        {
          "output_type": "stream",
          "name": "stdout",
          "text": [
            "\tTrain Loss: 0.003 | Train. Acc: 99.92%\n",
            "\tValid Loss: 0.370 | Valid. Acc: 94.65%\n",
            "\n",
            "\tTrain Loss: 0.001 | Train. Acc: 99.98%\n",
            "\tValid Loss: 0.366 | Valid. Acc: 93.87%\n",
            "\n",
            "\tTrain Loss: 0.000 | Train. Acc: 100.00%\n",
            "\tValid Loss: 0.360 | Valid. Acc: 94.98%\n",
            "\n",
            "\tTrain Loss: 0.000 | Train. Acc: 100.00%\n",
            "\tValid Loss: 0.360 | Valid. Acc: 95.18%\n",
            "\n",
            "\tTrain Loss: 0.000 | Train. Acc: 99.99%\n",
            "\tValid Loss: 0.365 | Valid. Acc: 94.26%\n",
            "\n",
            "\tTrain Loss: 0.001 | Train. Acc: 99.98%\n",
            "\tValid Loss: 0.366 | Valid. Acc: 93.68%\n",
            "\n",
            "\tTrain Loss: 0.003 | Train. Acc: 99.93%\n",
            "\tValid Loss: 0.386 | Valid. Acc: 93.09%\n",
            "\n",
            "\tTrain Loss: 0.003 | Train. Acc: 99.86%\n",
            "\tValid Loss: 0.436 | Valid. Acc: 94.07%\n",
            "\n",
            "\tTrain Loss: 0.000 | Train. Acc: 100.00%\n",
            "\tValid Loss: 0.429 | Valid. Acc: 94.13%\n",
            "\n",
            "\tTrain Loss: 0.000 | Train. Acc: 100.00%\n",
            "\tValid Loss: 0.410 | Valid. Acc: 94.13%\n",
            "\n",
            "\tTrain Loss: 0.000 | Train. Acc: 100.00%\n",
            "\tValid Loss: 0.406 | Valid. Acc: 94.13%\n",
            "\n",
            "\tTrain Loss: 0.000 | Train. Acc: 100.00%\n",
            "\tValid Loss: 0.405 | Valid. Acc: 94.33%\n",
            "\n",
            "\tTrain Loss: 0.000 | Train. Acc: 100.00%\n",
            "\tValid Loss: 0.411 | Valid. Acc: 94.13%\n",
            "\n",
            "\tTrain Loss: 0.000 | Train. Acc: 100.00%\n",
            "\tValid Loss: 0.410 | Valid. Acc: 94.33%\n",
            "\n",
            "\tTrain Loss: 0.000 | Train. Acc: 100.00%\n",
            "\tValid Loss: 0.411 | Valid. Acc: 94.13%\n",
            "\n",
            "\tTrain Loss: 0.000 | Train. Acc: 100.00%\n",
            "\tValid Loss: 0.408 | Valid. Acc: 94.13%\n",
            "\n",
            "\tTrain Loss: 0.000 | Train. Acc: 100.00%\n",
            "\tValid Loss: 0.411 | Valid. Acc: 94.33%\n",
            "\n",
            "\tTrain Loss: 0.000 | Train. Acc: 100.00%\n",
            "\tValid Loss: 0.413 | Valid. Acc: 94.33%\n",
            "\n",
            "\tTrain Loss: 0.000 | Train. Acc: 100.00%\n",
            "\tValid Loss: 0.414 | Valid. Acc: 94.33%\n",
            "\n",
            "\tTrain Loss: 0.000 | Train. Acc: 100.00%\n",
            "\tValid Loss: 0.413 | Valid. Acc: 94.33%\n",
            "\n",
            "\tTrain Loss: 0.000 | Train. Acc: 100.00%\n",
            "\tValid Loss: 0.413 | Valid. Acc: 94.33%\n",
            "\n",
            "\tTrain Loss: 0.000 | Train. Acc: 100.00%\n",
            "\tValid Loss: 0.413 | Valid. Acc: 94.33%\n",
            "\n",
            "\tTrain Loss: 0.000 | Train. Acc: 100.00%\n",
            "\tValid Loss: 0.415 | Valid. Acc: 94.33%\n",
            "\n",
            "\tTrain Loss: 0.000 | Train. Acc: 100.00%\n",
            "\tValid Loss: 0.416 | Valid. Acc: 94.33%\n",
            "\n",
            "\tTrain Loss: 0.000 | Train. Acc: 100.00%\n",
            "\tValid Loss: 0.418 | Valid. Acc: 94.52%\n",
            "\n",
            "\tTrain Loss: 0.000 | Train. Acc: 100.00%\n",
            "\tValid Loss: 0.418 | Valid. Acc: 94.52%\n",
            "\n",
            "\tTrain Loss: 0.000 | Train. Acc: 100.00%\n",
            "\tValid Loss: 0.419 | Valid. Acc: 94.52%\n",
            "\n",
            "\tTrain Loss: 0.000 | Train. Acc: 100.00%\n",
            "\tValid Loss: 0.420 | Valid. Acc: 94.72%\n",
            "\n",
            "\tTrain Loss: 0.000 | Train. Acc: 100.00%\n",
            "\tValid Loss: 0.420 | Valid. Acc: 94.91%\n",
            "\n",
            "\tTrain Loss: 0.000 | Train. Acc: 100.00%\n",
            "\tValid Loss: 0.422 | Valid. Acc: 94.91%\n",
            "\n",
            "\tTrain Loss: 0.000 | Train. Acc: 100.00%\n",
            "\tValid Loss: 0.422 | Valid. Acc: 94.91%\n",
            "\n",
            "\tTrain Loss: 0.000 | Train. Acc: 100.00%\n",
            "\tValid Loss: 0.426 | Valid. Acc: 94.91%\n",
            "\n",
            "\tTrain Loss: 0.000 | Train. Acc: 100.00%\n",
            "\tValid Loss: 0.428 | Valid. Acc: 94.91%\n",
            "\n",
            "\tTrain Loss: 0.000 | Train. Acc: 100.00%\n",
            "\tValid Loss: 0.427 | Valid. Acc: 94.72%\n",
            "\n",
            "\tTrain Loss: 0.000 | Train. Acc: 100.00%\n",
            "\tValid Loss: 0.429 | Valid. Acc: 94.72%\n",
            "\n",
            "\tTrain Loss: 0.000 | Train. Acc: 100.00%\n",
            "\tValid Loss: 0.430 | Valid. Acc: 94.91%\n",
            "\n",
            "\tTrain Loss: 0.000 | Train. Acc: 100.00%\n",
            "\tValid Loss: 0.430 | Valid. Acc: 94.91%\n",
            "\n",
            "\tTrain Loss: 0.000 | Train. Acc: 100.00%\n",
            "\tValid Loss: 0.436 | Valid. Acc: 95.24%\n",
            "\n",
            "\tTrain Loss: 0.000 | Train. Acc: 100.00%\n",
            "\tValid Loss: 0.437 | Valid. Acc: 95.05%\n",
            "\n",
            "\tTrain Loss: 0.000 | Train. Acc: 100.00%\n",
            "\tValid Loss: 0.434 | Valid. Acc: 94.91%\n",
            "\n"
          ]
        }
      ],
      "source": [
        "EPOCH_NUMBER = 40\n",
        "best_valid = 0.96\n",
        "\n",
        "for epoch in range(1,EPOCH_NUMBER+1):\n",
        "\n",
        "    train_loss,train_acc = train(model,training_dl,optimizer,criterion)\n",
        "\n",
        "    test_loss,test_acc = evaluate(model,testing_dl,criterion)\n",
        "    valid_loss, valid_acc = evaluate(model, validing_dl, criterion)\n",
        "\n",
        "    # Showing statistics\n",
        "    print(f'\\tTrain Loss: {train_loss:.3f} | Train. Acc: {train_acc*100:.2f}%')\n",
        "    print(f'\\tValid Loss: {valid_loss:.3f} | Valid. Acc: {valid_acc*100:.2f}%')\n",
        "    if (valid_acc >= best_valid ):\n",
        "      best_valid = valid_acc\n",
        "      torch.save(model.state_dict(), 'model.pth')\n",
        "      print(f'Test. Acc: {test_acc*100:.2f}%')\n",
        "    print()"
      ]
    },
    {
      "cell_type": "code",
      "execution_count": 42,
      "metadata": {
        "id": "1mkv2VfG8jps"
      },
      "outputs": [],
      "source": [
        "import matplotlib.pyplot as plt\n",
        "import seaborn as sns\n",
        "from sklearn.metrics import confusion_matrix\n",
        "from sklearn.metrics import confusion_matrix, precision_score, recall_score, f1_score, accuracy_score\n"
      ]
    },
    {
      "cell_type": "code",
      "source": [
        "model.load_state_dict(torch.load('/content/model_8684.pth'))\n",
        "model = model.to(device)"
      ],
      "metadata": {
        "id": "uSaa6iaaYhxN"
      },
      "execution_count": 44,
      "outputs": []
    },
    {
      "cell_type": "code",
      "execution_count": 45,
      "metadata": {
        "colab": {
          "base_uri": "https://localhost:8080/",
          "height": 735
        },
        "id": "gxRnQTUA8yKe",
        "outputId": "5a99cca3-c0d6-4f3c-b662-26515e7109ae"
      },
      "outputs": [
        {
          "output_type": "stream",
          "name": "stdout",
          "text": [
            "Loss: 0.3649 | Accuracy: 0.9583 | Precision: 0.9429 | Recall: 0.8049 | F1: 0.8684\n"
          ]
        },
        {
          "output_type": "display_data",
          "data": {
            "text/plain": [
              "<Figure size 1000x800 with 2 Axes>"
            ],
            "image/png": "[encoded data removed]"
          },
          "metadata": {}
        }
      ],
      "source": [
        "def evaluate2(model, iterator, criterion):\n",
        "    epoch_loss = 0.0\n",
        "    epoch_acc = 0.0\n",
        "    y_true = []\n",
        "    y_pred = []\n",
        "\n",
        "    # deactivate the dropouts\n",
        "    model.eval()\n",
        "\n",
        "    # Sets require_grad flat False\n",
        "    with torch.no_grad():\n",
        "        for batch in iterator:\n",
        "            text, text_lengths = batch[0], batch[1]\n",
        "            text = text.to(device)\n",
        "\n",
        "            predictions = model(text, text_lengths)\n",
        "            y_test = batch[2].reshape(-1, 1)\n",
        "            y_test = y_test.to(device)\n",
        "\n",
        "            loss = criterion(predictions, y_test.float())\n",
        "\n",
        "            acc = binary_accuracy(predictions, y_test.float())\n",
        "\n",
        "            # Keep track of loss and accuracy\n",
        "            epoch_loss += loss.item()\n",
        "            epoch_acc += acc.item()\n",
        "\n",
        "            # Append predicted and true labels to the lists\n",
        "            y_pred.extend(torch.round(predictions).cpu().numpy())\n",
        "            y_true.extend(y_test.cpu().numpy())\n",
        "\n",
        "    avg_loss = epoch_loss / len(iterator)\n",
        "    avg_acc = epoch_acc / len(iterator)\n",
        "\n",
        "    precision = precision_score(y_true, y_pred)\n",
        "    recall = recall_score(y_true, y_pred)\n",
        "    f1 = f1_score(y_true, y_pred)\n",
        "    accuracy = accuracy_score(y_true, y_pred)\n",
        "\n",
        "    return avg_loss, avg_acc, precision, recall, f1, accuracy, y_true, y_pred\n",
        "\n",
        "\n",
        "loss, accuracy, precision, recall, f1, accuracy_sklearn, true_labels, predicted_labels = evaluate2(model, validing_dl, criterion)\n",
        "\n",
        "# Print the evaluation metrics\n",
        "print(f\"Loss: {loss:.4f} | Accuracy: {accuracy:.4f} | Precision: {precision:.4f} | Recall: {recall:.4f} | F1: {f1:.4f}\")\n",
        "# Calculate the confusion matrix\n",
        "cm = confusion_matrix(true_labels, predicted_labels)\n",
        "\n",
        "# Plot the confusion matrix\n",
        "plt.figure(figsize=(10, 8))\n",
        "sns.heatmap(cm, annot=True, fmt='d', cmap='Blues', xticklabels=[0, 1], yticklabels=[0, 1])\n",
        "plt.xlabel('Predicted Labels')\n",
        "plt.ylabel('True Labels')\n",
        "plt.title('Confusion Matrix using pre-trained model BartPho')\n",
        "plt.show()\n"
      ]
    },
    {
      "cell_type": "code",
      "source": [
        "def input_test(text, tokenizer, model, device):\n",
        "    tokens = tokenizer.tokenize(text)\n",
        "    ids = tokenizer.convert_tokens_to_ids(tokens)\n",
        "    ids = torch.tensor(ids, dtype=torch.long).unsqueeze(0)\n",
        "\n",
        "    ids = ids.to(device)\n",
        "\n",
        "    # Get the length of the input sequence\n",
        "    length = torch.tensor(ids.shape[1], dtype=torch.long).unsqueeze(0)\n",
        "\n",
        "    # Evaluate the model on the input text\n",
        "    with torch.no_grad():\n",
        "        model.eval()\n",
        "        predictions = model(ids, length)\n",
        "\n",
        "\n",
        "    binary_predictions = torch.round(predictions).cpu().numpy()\n",
        "\n",
        "    return binary_predictions[0][0]\n"
      ],
      "metadata": {
        "id": "3wF9CFghjr8J"
      },
      "execution_count": 46,
      "outputs": []
    },
    {
      "cell_type": "code",
      "source": [
        "A = input(\"Enter the text you want to test: \")\n",
        "result = input_test(A, tokenizer, model, device)\n",
        "\n",
        "if (int(result) == 0):\n",
        "  print(\"Đây là tin thật\")\n",
        "else:\n",
        "  print(\"Đây là tin giả\")\n",
        "\n",
        "print(\"Predicted Label:\", result)"
      ],
      "metadata": {
        "colab": {
          "base_uri": "https://localhost:8080/"
        },
        "id": "5L5vS-Yhs1rh",
        "outputId": "f9a39089-be26-4d7a-e0db-01188e23d1ca"
      },
      "execution_count": 59,
      "outputs": [
        {
          "output_type": "stream",
          "name": "stdout",
          "text": [
            "Enter the text you want to test: Hoa hậu Ý Nhi đáp trả Quế Ngọc Hải: ‘Tôi học cao hơn anh’ . Sau khi bị Quế Ngọc Hải cà khịa, Hoa hậu Ý nhi ngay lập tức đáp trả.\n",
            "Đây là tin giả\n",
            "Predicted Label: 1.0\n"
          ]
        }
      ]
    },
    {
      "cell_type": "code",
      "source": [
        "print(\"Hoa hậu Ý Nhi đáp trả Quế Ngọc Hải: ‘Tôi học cao hơn anh’ \\n  Sau khi bị Quế Ngọc Hải cà khịa, Hoa hậu Ý nhi ngay lập tức đáp trả.\")"
      ],
      "metadata": {
        "colab": {
          "base_uri": "https://localhost:8080/"
        },
        "id": "HpYb7kPrhhL7",
        "outputId": "3971f5b5-6db6-43a9-95ce-0cf80041ed45"
      },
      "execution_count": 58,
      "outputs": [
        {
          "output_type": "stream",
          "name": "stdout",
          "text": [
            "Hoa hậu Ý Nhi đáp trả Quế Ngọc Hải: ‘Tôi học cao hơn anh’ \n",
            "  Sau khi bị Quế Ngọc Hải cà khịa, Hoa hậu Ý nhi ngay lập tức đáp trả.\n"
          ]
        }
      ]
    },
    {
      "cell_type": "code",
      "execution_count": 36,
      "metadata": {
        "id": "JaD3Su2bK37s"
      },
      "outputs": [],
      "source": [
        "torch.save(model.state_dict(), 'model_8276.pth')"
      ]
    }
  ],
  "metadata": {
    "accelerator": "GPU",
    "colab": {
      "provenance": [],
      "collapsed_sections": [
        "orn5XDepknEx",
        "3wusuII319X3"
      ]
    },
    "kernelspec": {
      "display_name": "Python 3",
      "name": "python3"
    },
    "language_info": {
      "codemirror_mode": {
        "name": "ipython",
        "version": 3
      },
      "file_extension": ".py",
      "mimetype": "text/x-python",
      "name": "python",
      "nbconvert_exporter": "python",
      "pygments_lexer": "ipython3",
      "version": "3.9.17"
    },
    "widgets": {
      "application/vnd.jupyter.widget-state+json": {
        "4ba9a17be37f4e4c984c1d5b30c227de": {
          "model_module": "@jupyter-widgets/controls",
          "model_name": "HBoxModel",
          "model_module_version": "1.5.0",
          "state": {
            "_dom_classes": [],
            "_model_module": "@jupyter-widgets/controls",
            "_model_module_version": "1.5.0",
            "_model_name": "HBoxModel",
            "_view_count": null,
            "_view_module": "@jupyter-widgets/controls",
            "_view_module_version": "1.5.0",
            "_view_name": "HBoxView",
            "box_style": "",
            "children": [
              "IPY_MODEL_5fbcdc0a820847f2b3b047e14ff32066",
              "IPY_MODEL_b5c05c82cbe64536aa35690df5c31bfa",
              "IPY_MODEL_edbc3a862b0c40279550797be6eb696b"
            ],
            "layout": "IPY_MODEL_5e9e254a3c174d47a35e914217bd7e2e"
          }
        },
        "5fbcdc0a820847f2b3b047e14ff32066": {
          "model_module": "@jupyter-widgets/controls",
          "model_name": "HTMLModel",
          "model_module_version": "1.5.0",
          "state": {
            "_dom_classes": [],
            "_model_module": "@jupyter-widgets/controls",
            "_model_module_version": "1.5.0",
            "_model_name": "HTMLModel",
            "_view_count": null,
            "_view_module": "@jupyter-widgets/controls",
            "_view_module_version": "1.5.0",
            "_view_name": "HTMLView",
            "description": "",
            "description_tooltip": null,
            "layout": "IPY_MODEL_48f143002da1411587342070c913b41d",
            "placeholder": "​",
            "style": "IPY_MODEL_038a7a3f1c904d8d8a145c74caf35059",
            "value": "Downloading (…)lve/main/config.json: 100%"
          }
        },
        "b5c05c82cbe64536aa35690df5c31bfa": {
          "model_module": "@jupyter-widgets/controls",
          "model_name": "FloatProgressModel",
          "model_module_version": "1.5.0",
          "state": {
            "_dom_classes": [],
            "_model_module": "@jupyter-widgets/controls",
            "_model_module_version": "1.5.0",
            "_model_name": "FloatProgressModel",
            "_view_count": null,
            "_view_module": "@jupyter-widgets/controls",
            "_view_module_version": "1.5.0",
            "_view_name": "ProgressView",
            "bar_style": "success",
            "description": "",
            "description_tooltip": null,
            "layout": "IPY_MODEL_537939aa7d0a4a5e92b249d8911b5acb",
            "max": 897,
            "min": 0,
            "orientation": "horizontal",
            "style": "IPY_MODEL_bcbfebc3915d4856aff2010fd379b425",
            "value": 897
          }
        },
        "edbc3a862b0c40279550797be6eb696b": {
          "model_module": "@jupyter-widgets/controls",
          "model_name": "HTMLModel",
          "model_module_version": "1.5.0",
          "state": {
            "_dom_classes": [],
            "_model_module": "@jupyter-widgets/controls",
            "_model_module_version": "1.5.0",
            "_model_name": "HTMLModel",
            "_view_count": null,
            "_view_module": "@jupyter-widgets/controls",
            "_view_module_version": "1.5.0",
            "_view_name": "HTMLView",
            "description": "",
            "description_tooltip": null,
            "layout": "IPY_MODEL_8841cbe2c256421d963ec36f9fb6bec9",
            "placeholder": "​",
            "style": "IPY_MODEL_acebd04d929b46fbba89942653ee9e11",
            "value": " 897/897 [00:00&lt;00:00, 54.3kB/s]"
          }
        },
        "5e9e254a3c174d47a35e914217bd7e2e": {
          "model_module": "@jupyter-widgets/base",
          "model_name": "LayoutModel",
          "model_module_version": "1.2.0",
          "state": {
            "_model_module": "@jupyter-widgets/base",
            "_model_module_version": "1.2.0",
            "_model_name": "LayoutModel",
            "_view_count": null,
            "_view_module": "@jupyter-widgets/base",
            "_view_module_version": "1.2.0",
            "_view_name": "LayoutView",
            "align_content": null,
            "align_items": null,
            "align_self": null,
            "border": null,
            "bottom": null,
            "display": null,
            "flex": null,
            "flex_flow": null,
            "grid_area": null,
            "grid_auto_columns": null,
            "grid_auto_flow": null,
            "grid_auto_rows": null,
            "grid_column": null,
            "grid_gap": null,
            "grid_row": null,
            "grid_template_areas": null,
            "grid_template_columns": null,
            "grid_template_rows": null,
            "height": null,
            "justify_content": null,
            "justify_items": null,
            "left": null,
            "margin": null,
            "max_height": null,
            "max_width": null,
            "min_height": null,
            "min_width": null,
            "object_fit": null,
            "object_position": null,
            "order": null,
            "overflow": null,
            "overflow_x": null,
            "overflow_y": null,
            "padding": null,
            "right": null,
            "top": null,
            "visibility": null,
            "width": null
          }
        },
        "48f143002da1411587342070c913b41d": {
          "model_module": "@jupyter-widgets/base",
          "model_name": "LayoutModel",
          "model_module_version": "1.2.0",
          "state": {
            "_model_module": "@jupyter-widgets/base",
            "_model_module_version": "1.2.0",
            "_model_name": "LayoutModel",
            "_view_count": null,
            "_view_module": "@jupyter-widgets/base",
            "_view_module_version": "1.2.0",
            "_view_name": "LayoutView",
            "align_content": null,
            "align_items": null,
            "align_self": null,
            "border": null,
            "bottom": null,
            "display": null,
            "flex": null,
            "flex_flow": null,
            "grid_area": null,
            "grid_auto_columns": null,
            "grid_auto_flow": null,
            "grid_auto_rows": null,
            "grid_column": null,
            "grid_gap": null,
            "grid_row": null,
            "grid_template_areas": null,
            "grid_template_columns": null,
            "grid_template_rows": null,
            "height": null,
            "justify_content": null,
            "justify_items": null,
            "left": null,
            "margin": null,
            "max_height": null,
            "max_width": null,
            "min_height": null,
            "min_width": null,
            "object_fit": null,
            "object_position": null,
            "order": null,
            "overflow": null,
            "overflow_x": null,
            "overflow_y": null,
            "padding": null,
            "right": null,
            "top": null,
            "visibility": null,
            "width": null
          }
        },
        "038a7a3f1c904d8d8a145c74caf35059": {
          "model_module": "@jupyter-widgets/controls",
          "model_name": "DescriptionStyleModel",
          "model_module_version": "1.5.0",
          "state": {
            "_model_module": "@jupyter-widgets/controls",
            "_model_module_version": "1.5.0",
            "_model_name": "DescriptionStyleModel",
            "_view_count": null,
            "_view_module": "@jupyter-widgets/base",
            "_view_module_version": "1.2.0",
            "_view_name": "StyleView",
            "description_width": ""
          }
        },
        "537939aa7d0a4a5e92b249d8911b5acb": {
          "model_module": "@jupyter-widgets/base",
          "model_name": "LayoutModel",
          "model_module_version": "1.2.0",
          "state": {
            "_model_module": "@jupyter-widgets/base",
            "_model_module_version": "1.2.0",
            "_model_name": "LayoutModel",
            "_view_count": null,
            "_view_module": "@jupyter-widgets/base",
            "_view_module_version": "1.2.0",
            "_view_name": "LayoutView",
            "align_content": null,
            "align_items": null,
            "align_self": null,
            "border": null,
            "bottom": null,
            "display": null,
            "flex": null,
            "flex_flow": null,
            "grid_area": null,
            "grid_auto_columns": null,
            "grid_auto_flow": null,
            "grid_auto_rows": null,
            "grid_column": null,
            "grid_gap": null,
            "grid_row": null,
            "grid_template_areas": null,
            "grid_template_columns": null,
            "grid_template_rows": null,
            "height": null,
            "justify_content": null,
            "justify_items": null,
            "left": null,
            "margin": null,
            "max_height": null,
            "max_width": null,
            "min_height": null,
            "min_width": null,
            "object_fit": null,
            "object_position": null,
            "order": null,
            "overflow": null,
            "overflow_x": null,
            "overflow_y": null,
            "padding": null,
            "right": null,
            "top": null,
            "visibility": null,
            "width": null
          }
        },
        "bcbfebc3915d4856aff2010fd379b425": {
          "model_module": "@jupyter-widgets/controls",
          "model_name": "ProgressStyleModel",
          "model_module_version": "1.5.0",
          "state": {
            "_model_module": "@jupyter-widgets/controls",
            "_model_module_version": "1.5.0",
            "_model_name": "ProgressStyleModel",
            "_view_count": null,
            "_view_module": "@jupyter-widgets/base",
            "_view_module_version": "1.2.0",
            "_view_name": "StyleView",
            "bar_color": null,
            "description_width": ""
          }
        },
        "8841cbe2c256421d963ec36f9fb6bec9": {
          "model_module": "@jupyter-widgets/base",
          "model_name": "LayoutModel",
          "model_module_version": "1.2.0",
          "state": {
            "_model_module": "@jupyter-widgets/base",
            "_model_module_version": "1.2.0",
            "_model_name": "LayoutModel",
            "_view_count": null,
            "_view_module": "@jupyter-widgets/base",
            "_view_module_version": "1.2.0",
            "_view_name": "LayoutView",
            "align_content": null,
            "align_items": null,
            "align_self": null,
            "border": null,
            "bottom": null,
            "display": null,
            "flex": null,
            "flex_flow": null,
            "grid_area": null,
            "grid_auto_columns": null,
            "grid_auto_flow": null,
            "grid_auto_rows": null,
            "grid_column": null,
            "grid_gap": null,
            "grid_row": null,
            "grid_template_areas": null,
            "grid_template_columns": null,
            "grid_template_rows": null,
            "height": null,
            "justify_content": null,
            "justify_items": null,
            "left": null,
            "margin": null,
            "max_height": null,
            "max_width": null,
            "min_height": null,
            "min_width": null,
            "object_fit": null,
            "object_position": null,
            "order": null,
            "overflow": null,
            "overflow_x": null,
            "overflow_y": null,
            "padding": null,
            "right": null,
            "top": null,
            "visibility": null,
            "width": null
          }
        },
        "acebd04d929b46fbba89942653ee9e11": {
          "model_module": "@jupyter-widgets/controls",
          "model_name": "DescriptionStyleModel",
          "model_module_version": "1.5.0",
          "state": {
            "_model_module": "@jupyter-widgets/controls",
            "_model_module_version": "1.5.0",
            "_model_name": "DescriptionStyleModel",
            "_view_count": null,
            "_view_module": "@jupyter-widgets/base",
            "_view_module_version": "1.2.0",
            "_view_name": "StyleView",
            "description_width": ""
          }
        },
        "81bc0a2fdba144849dcda39a846d4111": {
          "model_module": "@jupyter-widgets/controls",
          "model_name": "HBoxModel",
          "model_module_version": "1.5.0",
          "state": {
            "_dom_classes": [],
            "_model_module": "@jupyter-widgets/controls",
            "_model_module_version": "1.5.0",
            "_model_name": "HBoxModel",
            "_view_count": null,
            "_view_module": "@jupyter-widgets/controls",
            "_view_module_version": "1.5.0",
            "_view_name": "HBoxView",
            "box_style": "",
            "children": [
              "IPY_MODEL_fecc0c6246da427ba54307dbec8dab89",
              "IPY_MODEL_1230a40d0e2240e9a61ca0f21c4fa4fb",
              "IPY_MODEL_0718f3ef61564d168cc322021dacd8c5"
            ],
            "layout": "IPY_MODEL_37144d85b3a54fc997c676d2680a24e1"
          }
        },
        "fecc0c6246da427ba54307dbec8dab89": {
          "model_module": "@jupyter-widgets/controls",
          "model_name": "HTMLModel",
          "model_module_version": "1.5.0",
          "state": {
            "_dom_classes": [],
            "_model_module": "@jupyter-widgets/controls",
            "_model_module_version": "1.5.0",
            "_model_name": "HTMLModel",
            "_view_count": null,
            "_view_module": "@jupyter-widgets/controls",
            "_view_module_version": "1.5.0",
            "_view_name": "HTMLView",
            "description": "",
            "description_tooltip": null,
            "layout": "IPY_MODEL_837d3ebf43c843aead7cd8fc966ec232",
            "placeholder": "​",
            "style": "IPY_MODEL_44e2b6a238cd42e5a5b62510ad5d48e5",
            "value": "Downloading (…)tencepiece.bpe.model: 100%"
          }
        },
        "1230a40d0e2240e9a61ca0f21c4fa4fb": {
          "model_module": "@jupyter-widgets/controls",
          "model_name": "FloatProgressModel",
          "model_module_version": "1.5.0",
          "state": {
            "_dom_classes": [],
            "_model_module": "@jupyter-widgets/controls",
            "_model_module_version": "1.5.0",
            "_model_name": "FloatProgressModel",
            "_view_count": null,
            "_view_module": "@jupyter-widgets/controls",
            "_view_module_version": "1.5.0",
            "_view_name": "ProgressView",
            "bar_style": "success",
            "description": "",
            "description_tooltip": null,
            "layout": "IPY_MODEL_4c8f80e177b440a48e1c68d9ca75affc",
            "max": 5069051,
            "min": 0,
            "orientation": "horizontal",
            "style": "IPY_MODEL_81fd0506dc764990b3184044557e20d8",
            "value": 5069051
          }
        },
        "0718f3ef61564d168cc322021dacd8c5": {
          "model_module": "@jupyter-widgets/controls",
          "model_name": "HTMLModel",
          "model_module_version": "1.5.0",
          "state": {
            "_dom_classes": [],
            "_model_module": "@jupyter-widgets/controls",
            "_model_module_version": "1.5.0",
            "_model_name": "HTMLModel",
            "_view_count": null,
            "_view_module": "@jupyter-widgets/controls",
            "_view_module_version": "1.5.0",
            "_view_name": "HTMLView",
            "description": "",
            "description_tooltip": null,
            "layout": "IPY_MODEL_4ee1fe7ec8524042a7be3397e0e16866",
            "placeholder": "​",
            "style": "IPY_MODEL_d1a0318bf72548cda4ad1eb07078d537",
            "value": " 5.07M/5.07M [00:00&lt;00:00, 63.4MB/s]"
          }
        },
        "37144d85b3a54fc997c676d2680a24e1": {
          "model_module": "@jupyter-widgets/base",
          "model_name": "LayoutModel",
          "model_module_version": "1.2.0",
          "state": {
            "_model_module": "@jupyter-widgets/base",
            "_model_module_version": "1.2.0",
            "_model_name": "LayoutModel",
            "_view_count": null,
            "_view_module": "@jupyter-widgets/base",
            "_view_module_version": "1.2.0",
            "_view_name": "LayoutView",
            "align_content": null,
            "align_items": null,
            "align_self": null,
            "border": null,
            "bottom": null,
            "display": null,
            "flex": null,
            "flex_flow": null,
            "grid_area": null,
            "grid_auto_columns": null,
            "grid_auto_flow": null,
            "grid_auto_rows": null,
            "grid_column": null,
            "grid_gap": null,
            "grid_row": null,
            "grid_template_areas": null,
            "grid_template_columns": null,
            "grid_template_rows": null,
            "height": null,
            "justify_content": null,
            "justify_items": null,
            "left": null,
            "margin": null,
            "max_height": null,
            "max_width": null,
            "min_height": null,
            "min_width": null,
            "object_fit": null,
            "object_position": null,
            "order": null,
            "overflow": null,
            "overflow_x": null,
            "overflow_y": null,
            "padding": null,
            "right": null,
            "top": null,
            "visibility": null,
            "width": null
          }
        },
        "837d3ebf43c843aead7cd8fc966ec232": {
          "model_module": "@jupyter-widgets/base",
          "model_name": "LayoutModel",
          "model_module_version": "1.2.0",
          "state": {
            "_model_module": "@jupyter-widgets/base",
            "_model_module_version": "1.2.0",
            "_model_name": "LayoutModel",
            "_view_count": null,
            "_view_module": "@jupyter-widgets/base",
            "_view_module_version": "1.2.0",
            "_view_name": "LayoutView",
            "align_content": null,
            "align_items": null,
            "align_self": null,
            "border": null,
            "bottom": null,
            "display": null,
            "flex": null,
            "flex_flow": null,
            "grid_area": null,
            "grid_auto_columns": null,
            "grid_auto_flow": null,
            "grid_auto_rows": null,
            "grid_column": null,
            "grid_gap": null,
            "grid_row": null,
            "grid_template_areas": null,
            "grid_template_columns": null,
            "grid_template_rows": null,
            "height": null,
            "justify_content": null,
            "justify_items": null,
            "left": null,
            "margin": null,
            "max_height": null,
            "max_width": null,
            "min_height": null,
            "min_width": null,
            "object_fit": null,
            "object_position": null,
            "order": null,
            "overflow": null,
            "overflow_x": null,
            "overflow_y": null,
            "padding": null,
            "right": null,
            "top": null,
            "visibility": null,
            "width": null
          }
        },
        "44e2b6a238cd42e5a5b62510ad5d48e5": {
          "model_module": "@jupyter-widgets/controls",
          "model_name": "DescriptionStyleModel",
          "model_module_version": "1.5.0",
          "state": {
            "_model_module": "@jupyter-widgets/controls",
            "_model_module_version": "1.5.0",
            "_model_name": "DescriptionStyleModel",
            "_view_count": null,
            "_view_module": "@jupyter-widgets/base",
            "_view_module_version": "1.2.0",
            "_view_name": "StyleView",
            "description_width": ""
          }
        },
        "4c8f80e177b440a48e1c68d9ca75affc": {
          "model_module": "@jupyter-widgets/base",
          "model_name": "LayoutModel",
          "model_module_version": "1.2.0",
          "state": {
            "_model_module": "@jupyter-widgets/base",
            "_model_module_version": "1.2.0",
            "_model_name": "LayoutModel",
            "_view_count": null,
            "_view_module": "@jupyter-widgets/base",
            "_view_module_version": "1.2.0",
            "_view_name": "LayoutView",
            "align_content": null,
            "align_items": null,
            "align_self": null,
            "border": null,
            "bottom": null,
            "display": null,
            "flex": null,
            "flex_flow": null,
            "grid_area": null,
            "grid_auto_columns": null,
            "grid_auto_flow": null,
            "grid_auto_rows": null,
            "grid_column": null,
            "grid_gap": null,
            "grid_row": null,
            "grid_template_areas": null,
            "grid_template_columns": null,
            "grid_template_rows": null,
            "height": null,
            "justify_content": null,
            "justify_items": null,
            "left": null,
            "margin": null,
            "max_height": null,
            "max_width": null,
            "min_height": null,
            "min_width": null,
            "object_fit": null,
            "object_position": null,
            "order": null,
            "overflow": null,
            "overflow_x": null,
            "overflow_y": null,
            "padding": null,
            "right": null,
            "top": null,
            "visibility": null,
            "width": null
          }
        },
        "81fd0506dc764990b3184044557e20d8": {
          "model_module": "@jupyter-widgets/controls",
          "model_name": "ProgressStyleModel",
          "model_module_version": "1.5.0",
          "state": {
            "_model_module": "@jupyter-widgets/controls",
            "_model_module_version": "1.5.0",
            "_model_name": "ProgressStyleModel",
            "_view_count": null,
            "_view_module": "@jupyter-widgets/base",
            "_view_module_version": "1.2.0",
            "_view_name": "StyleView",
            "bar_color": null,
            "description_width": ""
          }
        },
        "4ee1fe7ec8524042a7be3397e0e16866": {
          "model_module": "@jupyter-widgets/base",
          "model_name": "LayoutModel",
          "model_module_version": "1.2.0",
          "state": {
            "_model_module": "@jupyter-widgets/base",
            "_model_module_version": "1.2.0",
            "_model_name": "LayoutModel",
            "_view_count": null,
            "_view_module": "@jupyter-widgets/base",
            "_view_module_version": "1.2.0",
            "_view_name": "LayoutView",
            "align_content": null,
            "align_items": null,
            "align_self": null,
            "border": null,
            "bottom": null,
            "display": null,
            "flex": null,
            "flex_flow": null,
            "grid_area": null,
            "grid_auto_columns": null,
            "grid_auto_flow": null,
            "grid_auto_rows": null,
            "grid_column": null,
            "grid_gap": null,
            "grid_row": null,
            "grid_template_areas": null,
            "grid_template_columns": null,
            "grid_template_rows": null,
            "height": null,
            "justify_content": null,
            "justify_items": null,
            "left": null,
            "margin": null,
            "max_height": null,
            "max_width": null,
            "min_height": null,
            "min_width": null,
            "object_fit": null,
            "object_position": null,
            "order": null,
            "overflow": null,
            "overflow_x": null,
            "overflow_y": null,
            "padding": null,
            "right": null,
            "top": null,
            "visibility": null,
            "width": null
          }
        },
        "d1a0318bf72548cda4ad1eb07078d537": {
          "model_module": "@jupyter-widgets/controls",
          "model_name": "DescriptionStyleModel",
          "model_module_version": "1.5.0",
          "state": {
            "_model_module": "@jupyter-widgets/controls",
            "_model_module_version": "1.5.0",
            "_model_name": "DescriptionStyleModel",
            "_view_count": null,
            "_view_module": "@jupyter-widgets/base",
            "_view_module_version": "1.2.0",
            "_view_name": "StyleView",
            "description_width": ""
          }
        },
        "8600851760884c249f248f0232e478be": {
          "model_module": "@jupyter-widgets/controls",
          "model_name": "HBoxModel",
          "model_module_version": "1.5.0",
          "state": {
            "_dom_classes": [],
            "_model_module": "@jupyter-widgets/controls",
            "_model_module_version": "1.5.0",
            "_model_name": "HBoxModel",
            "_view_count": null,
            "_view_module": "@jupyter-widgets/controls",
            "_view_module_version": "1.5.0",
            "_view_name": "HBoxView",
            "box_style": "",
            "children": [
              "IPY_MODEL_4d64fc4c19de486d944361c66ef6f1f9",
              "IPY_MODEL_26480fe8f02d41fb8e73989d4d6624fc",
              "IPY_MODEL_0357152d8fa9440c947d5c20a24eb295"
            ],
            "layout": "IPY_MODEL_5281bfaa0eb140d8ae377134755427e6"
          }
        },
        "4d64fc4c19de486d944361c66ef6f1f9": {
          "model_module": "@jupyter-widgets/controls",
          "model_name": "HTMLModel",
          "model_module_version": "1.5.0",
          "state": {
            "_dom_classes": [],
            "_model_module": "@jupyter-widgets/controls",
            "_model_module_version": "1.5.0",
            "_model_name": "HTMLModel",
            "_view_count": null,
            "_view_module": "@jupyter-widgets/controls",
            "_view_module_version": "1.5.0",
            "_view_name": "HTMLView",
            "description": "",
            "description_tooltip": null,
            "layout": "IPY_MODEL_060e81754bad48219fb91da9f9c8de93",
            "placeholder": "​",
            "style": "IPY_MODEL_bf1d4daa70034e218247848bd3edcc2c",
            "value": "Downloading (…)esolve/main/dict.txt: 100%"
          }
        },
        "26480fe8f02d41fb8e73989d4d6624fc": {
          "model_module": "@jupyter-widgets/controls",
          "model_name": "FloatProgressModel",
          "model_module_version": "1.5.0",
          "state": {
            "_dom_classes": [],
            "_model_module": "@jupyter-widgets/controls",
            "_model_module_version": "1.5.0",
            "_model_name": "FloatProgressModel",
            "_view_count": null,
            "_view_module": "@jupyter-widgets/controls",
            "_view_module_version": "1.5.0",
            "_view_name": "ProgressView",
            "bar_style": "success",
            "description": "",
            "description_tooltip": null,
            "layout": "IPY_MODEL_4d657a7d859a48a3866e729f78d5dfaa",
            "max": 360025,
            "min": 0,
            "orientation": "horizontal",
            "style": "IPY_MODEL_618d63a6313444949b009859445db190",
            "value": 360025
          }
        },
        "0357152d8fa9440c947d5c20a24eb295": {
          "model_module": "@jupyter-widgets/controls",
          "model_name": "HTMLModel",
          "model_module_version": "1.5.0",
          "state": {
            "_dom_classes": [],
            "_model_module": "@jupyter-widgets/controls",
            "_model_module_version": "1.5.0",
            "_model_name": "HTMLModel",
            "_view_count": null,
            "_view_module": "@jupyter-widgets/controls",
            "_view_module_version": "1.5.0",
            "_view_name": "HTMLView",
            "description": "",
            "description_tooltip": null,
            "layout": "IPY_MODEL_5b030ad07ceb43e78b49f0869b80eb86",
            "placeholder": "​",
            "style": "IPY_MODEL_167ac7de909b4003b734a2c3ff5f0370",
            "value": " 360k/360k [00:00&lt;00:00, 9.74MB/s]"
          }
        },
        "5281bfaa0eb140d8ae377134755427e6": {
          "model_module": "@jupyter-widgets/base",
          "model_name": "LayoutModel",
          "model_module_version": "1.2.0",
          "state": {
            "_model_module": "@jupyter-widgets/base",
            "_model_module_version": "1.2.0",
            "_model_name": "LayoutModel",
            "_view_count": null,
            "_view_module": "@jupyter-widgets/base",
            "_view_module_version": "1.2.0",
            "_view_name": "LayoutView",
            "align_content": null,
            "align_items": null,
            "align_self": null,
            "border": null,
            "bottom": null,
            "display": null,
            "flex": null,
            "flex_flow": null,
            "grid_area": null,
            "grid_auto_columns": null,
            "grid_auto_flow": null,
            "grid_auto_rows": null,
            "grid_column": null,
            "grid_gap": null,
            "grid_row": null,
            "grid_template_areas": null,
            "grid_template_columns": null,
            "grid_template_rows": null,
            "height": null,
            "justify_content": null,
            "justify_items": null,
            "left": null,
            "margin": null,
            "max_height": null,
            "max_width": null,
            "min_height": null,
            "min_width": null,
            "object_fit": null,
            "object_position": null,
            "order": null,
            "overflow": null,
            "overflow_x": null,
            "overflow_y": null,
            "padding": null,
            "right": null,
            "top": null,
            "visibility": null,
            "width": null
          }
        },
        "060e81754bad48219fb91da9f9c8de93": {
          "model_module": "@jupyter-widgets/base",
          "model_name": "LayoutModel",
          "model_module_version": "1.2.0",
          "state": {
            "_model_module": "@jupyter-widgets/base",
            "_model_module_version": "1.2.0",
            "_model_name": "LayoutModel",
            "_view_count": null,
            "_view_module": "@jupyter-widgets/base",
            "_view_module_version": "1.2.0",
            "_view_name": "LayoutView",
            "align_content": null,
            "align_items": null,
            "align_self": null,
            "border": null,
            "bottom": null,
            "display": null,
            "flex": null,
            "flex_flow": null,
            "grid_area": null,
            "grid_auto_columns": null,
            "grid_auto_flow": null,
            "grid_auto_rows": null,
            "grid_column": null,
            "grid_gap": null,
            "grid_row": null,
            "grid_template_areas": null,
            "grid_template_columns": null,
            "grid_template_rows": null,
            "height": null,
            "justify_content": null,
            "justify_items": null,
            "left": null,
            "margin": null,
            "max_height": null,
            "max_width": null,
            "min_height": null,
            "min_width": null,
            "object_fit": null,
            "object_position": null,
            "order": null,
            "overflow": null,
            "overflow_x": null,
            "overflow_y": null,
            "padding": null,
            "right": null,
            "top": null,
            "visibility": null,
            "width": null
          }
        },
        "bf1d4daa70034e218247848bd3edcc2c": {
          "model_module": "@jupyter-widgets/controls",
          "model_name": "DescriptionStyleModel",
          "model_module_version": "1.5.0",
          "state": {
            "_model_module": "@jupyter-widgets/controls",
            "_model_module_version": "1.5.0",
            "_model_name": "DescriptionStyleModel",
            "_view_count": null,
            "_view_module": "@jupyter-widgets/base",
            "_view_module_version": "1.2.0",
            "_view_name": "StyleView",
            "description_width": ""
          }
        },
        "4d657a7d859a48a3866e729f78d5dfaa": {
          "model_module": "@jupyter-widgets/base",
          "model_name": "LayoutModel",
          "model_module_version": "1.2.0",
          "state": {
            "_model_module": "@jupyter-widgets/base",
            "_model_module_version": "1.2.0",
            "_model_name": "LayoutModel",
            "_view_count": null,
            "_view_module": "@jupyter-widgets/base",
            "_view_module_version": "1.2.0",
            "_view_name": "LayoutView",
            "align_content": null,
            "align_items": null,
            "align_self": null,
            "border": null,
            "bottom": null,
            "display": null,
            "flex": null,
            "flex_flow": null,
            "grid_area": null,
            "grid_auto_columns": null,
            "grid_auto_flow": null,
            "grid_auto_rows": null,
            "grid_column": null,
            "grid_gap": null,
            "grid_row": null,
            "grid_template_areas": null,
            "grid_template_columns": null,
            "grid_template_rows": null,
            "height": null,
            "justify_content": null,
            "justify_items": null,
            "left": null,
            "margin": null,
            "max_height": null,
            "max_width": null,
            "min_height": null,
            "min_width": null,
            "object_fit": null,
            "object_position": null,
            "order": null,
            "overflow": null,
            "overflow_x": null,
            "overflow_y": null,
            "padding": null,
            "right": null,
            "top": null,
            "visibility": null,
            "width": null
          }
        },
        "618d63a6313444949b009859445db190": {
          "model_module": "@jupyter-widgets/controls",
          "model_name": "ProgressStyleModel",
          "model_module_version": "1.5.0",
          "state": {
            "_model_module": "@jupyter-widgets/controls",
            "_model_module_version": "1.5.0",
            "_model_name": "ProgressStyleModel",
            "_view_count": null,
            "_view_module": "@jupyter-widgets/base",
            "_view_module_version": "1.2.0",
            "_view_name": "StyleView",
            "bar_color": null,
            "description_width": ""
          }
        },
        "5b030ad07ceb43e78b49f0869b80eb86": {
          "model_module": "@jupyter-widgets/base",
          "model_name": "LayoutModel",
          "model_module_version": "1.2.0",
          "state": {
            "_model_module": "@jupyter-widgets/base",
            "_model_module_version": "1.2.0",
            "_model_name": "LayoutModel",
            "_view_count": null,
            "_view_module": "@jupyter-widgets/base",
            "_view_module_version": "1.2.0",
            "_view_name": "LayoutView",
            "align_content": null,
            "align_items": null,
            "align_self": null,
            "border": null,
            "bottom": null,
            "display": null,
            "flex": null,
            "flex_flow": null,
            "grid_area": null,
            "grid_auto_columns": null,
            "grid_auto_flow": null,
            "grid_auto_rows": null,
            "grid_column": null,
            "grid_gap": null,
            "grid_row": null,
            "grid_template_areas": null,
            "grid_template_columns": null,
            "grid_template_rows": null,
            "height": null,
            "justify_content": null,
            "justify_items": null,
            "left": null,
            "margin": null,
            "max_height": null,
            "max_width": null,
            "min_height": null,
            "min_width": null,
            "object_fit": null,
            "object_position": null,
            "order": null,
            "overflow": null,
            "overflow_x": null,
            "overflow_y": null,
            "padding": null,
            "right": null,
            "top": null,
            "visibility": null,
            "width": null
          }
        },
        "167ac7de909b4003b734a2c3ff5f0370": {
          "model_module": "@jupyter-widgets/controls",
          "model_name": "DescriptionStyleModel",
          "model_module_version": "1.5.0",
          "state": {
            "_model_module": "@jupyter-widgets/controls",
            "_model_module_version": "1.5.0",
            "_model_name": "DescriptionStyleModel",
            "_view_count": null,
            "_view_module": "@jupyter-widgets/base",
            "_view_module_version": "1.2.0",
            "_view_name": "StyleView",
            "description_width": ""
          }
        }
      }
    }
  },
  "nbformat": 4,
  "nbformat_minor": 0
}