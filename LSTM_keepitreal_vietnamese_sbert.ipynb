{
  "cells": [
    {
      "cell_type": "code",
      "execution_count": null,
      "metadata": {
        "colab": {
          "base_uri": "https://localhost:8080/"
        },
        "id": "Nhv7TKbk2zeL",
        "outputId": "11ae5517-332c-49d7-a1ad-d4a36f32754a"
      },
      "outputs": [
        {
          "output_type": "stream",
          "name": "stdout",
          "text": [
            "Requirement already satisfied: transformers in /usr/local/lib/python3.10/dist-packages (4.31.0)\n",
            "Requirement already satisfied: filelock in /usr/local/lib/python3.10/dist-packages (from transformers) (3.12.2)\n",
            "Requirement already satisfied: huggingface-hub<1.0,>=0.14.1 in /usr/local/lib/python3.10/dist-packages (from transformers) (0.16.4)\n",
            "Requirement already satisfied: numpy>=1.17 in /usr/local/lib/python3.10/dist-packages (from transformers) (1.22.4)\n",
            "Requirement already satisfied: packaging>=20.0 in /usr/local/lib/python3.10/dist-packages (from transformers) (23.1)\n",
            "Requirement already satisfied: pyyaml>=5.1 in /usr/local/lib/python3.10/dist-packages (from transformers) (6.0.1)\n",
            "Requirement already satisfied: regex!=2019.12.17 in /usr/local/lib/python3.10/dist-packages (from transformers) (2022.10.31)\n",
            "Requirement already satisfied: requests in /usr/local/lib/python3.10/dist-packages (from transformers) (2.27.1)\n",
            "Requirement already satisfied: tokenizers!=0.11.3,<0.14,>=0.11.1 in /usr/local/lib/python3.10/dist-packages (from transformers) (0.13.3)\n",
            "Requirement already satisfied: safetensors>=0.3.1 in /usr/local/lib/python3.10/dist-packages (from transformers) (0.3.1)\n",
            "Requirement already satisfied: tqdm>=4.27 in /usr/local/lib/python3.10/dist-packages (from transformers) (4.65.0)\n",
            "Requirement already satisfied: fsspec in /usr/local/lib/python3.10/dist-packages (from huggingface-hub<1.0,>=0.14.1->transformers) (2023.6.0)\n",
            "Requirement already satisfied: typing-extensions>=3.7.4.3 in /usr/local/lib/python3.10/dist-packages (from huggingface-hub<1.0,>=0.14.1->transformers) (4.7.1)\n",
            "Requirement already satisfied: urllib3<1.27,>=1.21.1 in /usr/local/lib/python3.10/dist-packages (from requests->transformers) (1.26.16)\n",
            "Requirement already satisfied: certifi>=2017.4.17 in /usr/local/lib/python3.10/dist-packages (from requests->transformers) (2023.7.22)\n",
            "Requirement already satisfied: charset-normalizer~=2.0.0 in /usr/local/lib/python3.10/dist-packages (from requests->transformers) (2.0.12)\n",
            "Requirement already satisfied: idna<4,>=2.5 in /usr/local/lib/python3.10/dist-packages (from requests->transformers) (3.4)\n",
            "Requirement already satisfied: sentencepiece in /usr/local/lib/python3.10/dist-packages (0.1.99)\n"
          ]
        }
      ],
      "source": [
        "!pip install transformers\n",
        "!pip install sentencepiece"
      ]
    },
    {
      "cell_type": "code",
      "execution_count": null,
      "metadata": {
        "id": "8rJZZcbQ19Xx"
      },
      "outputs": [],
      "source": [
        "import numpy as np\n",
        "import pandas as pd\n",
        "import matplotlib.pyplot as plt\n",
        "import torch\n",
        "import seaborn as sns\n",
        "import torch\n",
        "from torch.utils.data import Dataset\n",
        "import torch.nn.utils.rnn as rnn_utils\n",
        "\n",
        "from torchtext import data"
      ]
    },
    {
      "cell_type": "code",
      "execution_count": null,
      "metadata": {
        "colab": {
          "base_uri": "https://localhost:8080/"
        },
        "id": "h9Gxrion19Xz",
        "outputId": "eb682df2-1b8d-4801-de87-24a408ac4c18"
      },
      "outputs": [
        {
          "output_type": "execute_result",
          "data": {
            "text/plain": [
              "device(type='cuda')"
            ]
          },
          "metadata": {},
          "execution_count": 16
        }
      ],
      "source": [
        "# Check if cuda available\n",
        "device = torch.device(\"cuda\" if torch.cuda.is_available() else \"cpu\")\n",
        "device"
      ]
    },
    {
      "cell_type": "code",
      "execution_count": null,
      "metadata": {
        "id": "ZMiFtcTh19X0"
      },
      "outputs": [],
      "source": [
        "from transformers import AutoTokenizer\n",
        "tokenizer = AutoTokenizer.from_pretrained(\"keepitreal/vietnamese-sbert\")"
      ]
    },
    {
      "cell_type": "code",
      "execution_count": null,
      "metadata": {
        "id": "YEY0JnrU19X1"
      },
      "outputs": [],
      "source": [
        "class Custom_Text_Dataset(Dataset):\n",
        "    def __init__(self, df_dir, tokenizer):\n",
        "        self.df = pd.read_csv(df_dir)\n",
        "        self.tokenizer = tokenizer\n",
        "\n",
        "    def __len__(self):\n",
        "        return self.df.shape[0]\n",
        "\n",
        "    def __getitem__(self, idx):\n",
        "        text = self.df['post_message'][idx]\n",
        "\n",
        "        label = self.df['label'][idx]\n",
        "        label = torch.tensor(label, dtype=torch.long)\n",
        "\n",
        "        tokens = self.tokenizer.tokenize(text)\n",
        "\n",
        "        ids = self.tokenizer.convert_tokens_to_ids(tokens)\n",
        "        ids = torch.tensor(ids, dtype=torch.long)\n",
        "\n",
        "        length = ids.shape\n",
        "        length = torch.tensor(length, dtype=torch.float32)\n",
        "        # ids = torch.tensor(ids, dtype=torch.long)\n",
        "        # Add 0 so that length of all ids is 7180\n",
        "        # ids = torch.cat((ids, torch.zeros(7180 - len(ids), dtype=torch.long)))\n",
        "\n",
        "        return ids, length, label"
      ]
    },
    {
      "cell_type": "code",
      "execution_count": null,
      "metadata": {
        "id": "OOKExl-e19X1"
      },
      "outputs": [],
      "source": [
        "train_ds = Custom_Text_Dataset('/content/train.csv', tokenizer)\n",
        "test_ds = Custom_Text_Dataset('/content/test.csv', tokenizer)\n",
        "valid_ds = Custom_Text_Dataset('/content/val.csv', tokenizer)"
      ]
    },
    {
      "cell_type": "code",
      "execution_count": null,
      "metadata": {
        "id": "5nSZHCSK19X2"
      },
      "outputs": [],
      "source": [
        "from torch.utils.data import DataLoader\n",
        "\n",
        "def custom_collate_fn(batch):\n",
        "    sorted_batch = sorted(batch, key=lambda x: len(x[0]), reverse=True)\n",
        "    return sorted_batch\n",
        "\n",
        "train_dl = DataLoader(train_ds, batch_size=64, collate_fn=custom_collate_fn)\n",
        "test_dl = DataLoader(test_ds, batch_size=64, collate_fn=custom_collate_fn)\n",
        "valid_dl = DataLoader(valid_ds, batch_size = 64, collate_fn = custom_collate_fn)\n"
      ]
    },
    {
      "cell_type": "code",
      "execution_count": null,
      "metadata": {
        "colab": {
          "base_uri": "https://localhost:8080/"
        },
        "id": "PjrfKHDm19X2",
        "outputId": "c26a2f50-64d5-424f-fbe0-f75e93c9af61"
      },
      "outputs": [
        {
          "output_type": "stream",
          "name": "stderr",
          "text": [
            "<ipython-input-20-557e0d167fb8>:3: UserWarning: To copy construct from a tensor, it is recommended to use sourceTensor.clone().detach() or sourceTensor.clone().detach().requires_grad_(True), rather than torch.tensor(sourceTensor).\n",
            "  X = [torch.tensor(member[0]) for member in batch]\n"
          ]
        }
      ],
      "source": [
        "training_dl = [ ]\n",
        "for batch in train_dl:\n",
        "    X = [torch.tensor(member[0]) for member in batch]\n",
        "    padded_X = rnn_utils.pad_sequence(X, batch_first=True)\n",
        "    training_dl.append([padded_X, torch.tensor([member[1] for member in batch]), torch.tensor([member[2] for member in batch])])"
      ]
    },
    {
      "cell_type": "code",
      "execution_count": null,
      "metadata": {
        "id": "o512uT3y19X3",
        "colab": {
          "base_uri": "https://localhost:8080/"
        },
        "outputId": "0d276da6-7d5c-4b17-8efe-0d395dc08f19"
      },
      "outputs": [
        {
          "output_type": "stream",
          "name": "stderr",
          "text": [
            "<ipython-input-21-2301d6a2f884>:3: UserWarning: To copy construct from a tensor, it is recommended to use sourceTensor.clone().detach() or sourceTensor.clone().detach().requires_grad_(True), rather than torch.tensor(sourceTensor).\n",
            "  X = [torch.tensor(member[0]) for member in batch]\n"
          ]
        }
      ],
      "source": [
        "testing_dl = [ ]\n",
        "for batch in test_dl:\n",
        "    X = [torch.tensor(member[0]) for member in batch]\n",
        "    padded_X = rnn_utils.pad_sequence(X, batch_first=True)\n",
        "    testing_dl.append([padded_X, torch.tensor([member[1] for member in batch]), torch.tensor([member[2] for member in batch])])"
      ]
    },
    {
      "cell_type": "code",
      "execution_count": null,
      "metadata": {
        "id": "8Fg02HUVHXQd",
        "colab": {
          "base_uri": "https://localhost:8080/"
        },
        "outputId": "851a788c-0184-45c2-e6ef-3be3e3003342"
      },
      "outputs": [
        {
          "output_type": "stream",
          "name": "stderr",
          "text": [
            "<ipython-input-22-70c2a6c926af>:3: UserWarning: To copy construct from a tensor, it is recommended to use sourceTensor.clone().detach() or sourceTensor.clone().detach().requires_grad_(True), rather than torch.tensor(sourceTensor).\n",
            "  X = [torch.tensor(member[0]) for member in batch]\n"
          ]
        }
      ],
      "source": [
        "validing_dl = [ ]\n",
        "for batch in valid_dl:\n",
        "    X = [torch.tensor(member[0]) for member in batch]\n",
        "    padded_X = rnn_utils.pad_sequence(X, batch_first=True)\n",
        "    validing_dl.append([padded_X, torch.tensor([member[1] for member in batch]), torch.tensor([member[2] for member in batch])])"
      ]
    },
    {
      "cell_type": "markdown",
      "metadata": {
        "id": "3wusuII319X3"
      },
      "source": [
        "## Model LSTM"
      ]
    },
    {
      "cell_type": "code",
      "execution_count": null,
      "metadata": {
        "id": "QgGdKJ1i19X7"
      },
      "outputs": [],
      "source": [
        "# Pytorch's nn module has lots of useful feature\n",
        "import torch.nn as nn\n",
        "\n",
        "class LSTMNet(nn.Module):\n",
        "\n",
        "    def __init__(self,vocab_size,embedding_dim,hidden_dim,output_dim,n_layers,bidirectional,dropout):\n",
        "\n",
        "        super(LSTMNet,self).__init__()\n",
        "\n",
        "        # Embedding layer converts integer sequences to vector sequences\n",
        "        self.embedding = nn.Embedding(vocab_size,embedding_dim)\n",
        "\n",
        "        # LSTM layer process the vector sequences\n",
        "        self.lstm = nn.LSTM(embedding_dim,\n",
        "                            hidden_dim,\n",
        "                            num_layers = n_layers,\n",
        "                            bidirectional = bidirectional,\n",
        "                            dropout = dropout,\n",
        "                            batch_first = True\n",
        "                           )\n",
        "\n",
        "        # Dense layer to predict\n",
        "        self.fc = nn.Linear(hidden_dim * 2,output_dim)\n",
        "        # Prediction activation function\n",
        "        self.sigmoid = nn.Sigmoid()\n",
        "\n",
        "\n",
        "    def forward(self,text,text_lengths):\n",
        "        embedded = self.embedding(text).to(device)\n",
        "\n",
        "        # Thanks to packing, LSTM don't see padding tokens\n",
        "        # and this makes our model better\n",
        "        packed_embedded = nn.utils.rnn.pack_padded_sequence(embedded, text_lengths,batch_first=True)\n",
        "\n",
        "        packed_output,(hidden_state,cell_state) = self.lstm(packed_embedded)\n",
        "\n",
        "        # Concatenating the final forward and backward hidden states\n",
        "        hidden = torch.cat((hidden_state[-2,:,:], hidden_state[-1,:,:]), dim = 1)\n",
        "\n",
        "        dense_outputs=self.fc(hidden)\n",
        "\n",
        "        #Final activation function\n",
        "        outputs=self.sigmoid(dense_outputs)\n",
        "\n",
        "        return outputs"
      ]
    },
    {
      "cell_type": "code",
      "execution_count": null,
      "metadata": {
        "id": "tD1n4pHq19X7"
      },
      "outputs": [],
      "source": [
        "tokenizer = AutoTokenizer.from_pretrained(\"keepitreal/vietnamese-sbert\")\n",
        "vocab_size = tokenizer.vocab_size\n",
        "embedding_dim = 300\n",
        "hidden_dim = 64\n",
        "output_dim = 1\n",
        "n_layers = 2\n",
        "bidirectional = True\n",
        "dropout = 0.2\n",
        "\n",
        "model = LSTMNet(vocab_size, embedding_dim, hidden_dim, output_dim, n_layers, bidirectional, dropout)\n"
      ]
    },
    {
      "cell_type": "code",
      "execution_count": null,
      "metadata": {
        "id": "MrXipa8Q19X8"
      },
      "outputs": [],
      "source": [
        "import torch.optim as optim\n",
        "model = model.to(device)\n",
        "optimizer = optim.Adam(model.parameters(),lr=1e-4)\n",
        "criterion = nn.BCELoss()\n",
        "criterion = criterion.to(device)"
      ]
    },
    {
      "cell_type": "code",
      "execution_count": null,
      "metadata": {
        "id": "c9TxlS2R19X8"
      },
      "outputs": [],
      "source": [
        "def binary_accuracy(preds, y):\n",
        "    #round predictions to the closest integer\n",
        "    rounded_preds = torch.round(preds)\n",
        "\n",
        "    correct = (rounded_preds == y).float()\n",
        "    acc = correct.sum() / len(correct)\n",
        "    return acc"
      ]
    },
    {
      "cell_type": "code",
      "execution_count": null,
      "metadata": {
        "id": "fOdW5VLe19X9"
      },
      "outputs": [],
      "source": [
        "def train(model,iterator,optimizer,criterion):\n",
        "\n",
        "    epoch_loss = 0.0\n",
        "    epoch_acc = 0.0\n",
        "\n",
        "    model.train()\n",
        "\n",
        "    for batch in iterator:\n",
        "        # cleaning the cache of optimizer\n",
        "        optimizer.zero_grad()\n",
        "\n",
        "        text,text_lengths = batch[0], batch[1]\n",
        "        text = text.to(device)\n",
        "        text_lengths = text_lengths\n",
        "\n",
        "        # forward propagation and squeezing\n",
        "        predictions = model(text,text_lengths)\n",
        "\n",
        "        y_test = batch[2].reshape(-1,1)\n",
        "        y_test = y_test.to(device)\n",
        "        # computing loss / backward propagation\n",
        "\n",
        "        loss = criterion(predictions,y_test.float())\n",
        "        loss.backward()\n",
        "\n",
        "        # accuracy\n",
        "        acc = binary_accuracy(predictions,y_test.float())\n",
        "\n",
        "        # updating params\n",
        "        optimizer.step()\n",
        "\n",
        "        epoch_loss += loss.item()\n",
        "        epoch_acc += acc.item()\n",
        "\n",
        "    # It'll return the means of loss and accuracy\n",
        "    return epoch_loss / len(iterator), epoch_acc / len(iterator)"
      ]
    },
    {
      "cell_type": "code",
      "execution_count": null,
      "metadata": {
        "id": "7Gso9AVF19X9"
      },
      "outputs": [],
      "source": [
        "def evaluate(model,iterator,criterion):\n",
        "\n",
        "    epoch_loss = 0.0\n",
        "    epoch_acc = 0.0\n",
        "\n",
        "    # deactivate the dropouts\n",
        "    model.eval()\n",
        "\n",
        "    # Sets require_grad flat False\n",
        "    with torch.no_grad():\n",
        "        for batch in iterator:\n",
        "            text,text_lengths = batch[0],batch[1]\n",
        "            text = text.to(device)\n",
        "\n",
        "            predictions = model(text,text_lengths)\n",
        "\n",
        "            #compute loss and accuracy\n",
        "            y_test = batch[2].reshape(-1,1)\n",
        "            y_test = y_test.to(device)\n",
        "\n",
        "            loss = criterion(predictions, y_test.float())\n",
        "\n",
        "            acc = binary_accuracy(predictions, y_test.float())\n",
        "\n",
        "            #keep track of loss and accuracy\n",
        "            epoch_loss += loss.item()\n",
        "            epoch_acc += acc.item()\n",
        "\n",
        "    return epoch_loss / len(iterator), epoch_acc / len(iterator)"
      ]
    },
    {
      "cell_type": "code",
      "execution_count": null,
      "metadata": {
        "id": "cmZwR8l319X9",
        "colab": {
          "base_uri": "https://localhost:8080/"
        },
        "outputId": "0a6232f1-1be7-4fcd-a665-0f64ba7da4be"
      },
      "outputs": [
        {
          "output_type": "stream",
          "name": "stdout",
          "text": [
            "\tTrain Loss: 0.000 | Train. Acc: 99.98%\n",
            "\tValid Loss: 0.502 | Valid. Acc: 92.63%\n",
            "\n",
            "\tTrain Loss: 0.000 | Train. Acc: 99.98%\n",
            "\tValid Loss: 0.412 | Valid. Acc: 93.35%\n",
            "\n",
            "\tTrain Loss: 0.000 | Train. Acc: 99.98%\n",
            "\tValid Loss: 0.492 | Valid. Acc: 92.24%\n",
            "\n",
            "\tTrain Loss: 0.000 | Train. Acc: 99.98%\n",
            "\tValid Loss: 0.465 | Valid. Acc: 92.43%\n",
            "\n",
            "\tTrain Loss: 0.000 | Train. Acc: 99.98%\n",
            "\tValid Loss: 0.470 | Valid. Acc: 92.43%\n",
            "\n",
            "\tTrain Loss: 0.000 | Train. Acc: 99.98%\n",
            "\tValid Loss: 0.481 | Valid. Acc: 92.24%\n",
            "\n",
            "\tTrain Loss: 0.000 | Train. Acc: 99.98%\n",
            "\tValid Loss: 0.478 | Valid. Acc: 92.24%\n",
            "\n",
            "\tTrain Loss: 0.000 | Train. Acc: 99.98%\n",
            "\tValid Loss: 0.483 | Valid. Acc: 92.43%\n",
            "\n",
            "\tTrain Loss: 0.000 | Train. Acc: 99.98%\n",
            "\tValid Loss: 0.495 | Valid. Acc: 92.24%\n",
            "\n",
            "\tTrain Loss: 0.000 | Train. Acc: 99.98%\n",
            "\tValid Loss: 0.496 | Valid. Acc: 92.43%\n",
            "\n",
            "\tTrain Loss: 0.000 | Train. Acc: 99.98%\n",
            "\tValid Loss: 0.510 | Valid. Acc: 92.24%\n",
            "\n",
            "\tTrain Loss: 0.000 | Train. Acc: 99.98%\n",
            "\tValid Loss: 0.516 | Valid. Acc: 92.24%\n",
            "\n",
            "\tTrain Loss: 0.000 | Train. Acc: 99.98%\n",
            "\tValid Loss: 0.505 | Valid. Acc: 92.04%\n",
            "\n",
            "\tTrain Loss: 0.000 | Train. Acc: 99.98%\n",
            "\tValid Loss: 0.526 | Valid. Acc: 92.04%\n",
            "\n",
            "\tTrain Loss: 0.000 | Train. Acc: 99.98%\n",
            "\tValid Loss: 0.455 | Valid. Acc: 93.02%\n",
            "\n",
            "\tTrain Loss: 0.000 | Train. Acc: 99.98%\n",
            "\tValid Loss: 0.527 | Valid. Acc: 91.91%\n",
            "\n",
            "\tTrain Loss: 0.000 | Train. Acc: 99.98%\n",
            "\tValid Loss: 0.525 | Valid. Acc: 92.11%\n",
            "\n",
            "\tTrain Loss: 0.000 | Train. Acc: 99.98%\n",
            "\tValid Loss: 0.514 | Valid. Acc: 92.82%\n",
            "\n",
            "\tTrain Loss: 0.000 | Train. Acc: 99.98%\n",
            "\tValid Loss: 0.519 | Valid. Acc: 92.63%\n",
            "\n",
            "\tTrain Loss: 0.000 | Train. Acc: 99.98%\n",
            "\tValid Loss: 0.531 | Valid. Acc: 92.43%\n",
            "\n",
            "\tTrain Loss: 0.005 | Train. Acc: 99.84%\n",
            "\tValid Loss: 0.594 | Valid. Acc: 92.11%\n",
            "\n",
            "\tTrain Loss: 0.001 | Train. Acc: 99.97%\n",
            "\tValid Loss: 0.512 | Valid. Acc: 92.24%\n",
            "\n",
            "\tTrain Loss: 0.000 | Train. Acc: 100.00%\n",
            "\tValid Loss: 0.513 | Valid. Acc: 92.11%\n",
            "\n",
            "\tTrain Loss: 0.000 | Train. Acc: 100.00%\n",
            "\tValid Loss: 0.516 | Valid. Acc: 91.91%\n",
            "\n",
            "\tTrain Loss: 0.000 | Train. Acc: 99.99%\n",
            "\tValid Loss: 0.525 | Valid. Acc: 92.50%\n",
            "\n",
            "\tTrain Loss: 0.000 | Train. Acc: 100.00%\n",
            "\tValid Loss: 0.523 | Valid. Acc: 92.50%\n",
            "\n",
            "\tTrain Loss: 0.000 | Train. Acc: 100.00%\n",
            "\tValid Loss: 0.519 | Valid. Acc: 92.11%\n",
            "\n",
            "\tTrain Loss: 0.000 | Train. Acc: 100.00%\n",
            "\tValid Loss: 0.520 | Valid. Acc: 92.11%\n",
            "\n",
            "\tTrain Loss: 0.000 | Train. Acc: 100.00%\n",
            "\tValid Loss: 0.522 | Valid. Acc: 92.11%\n",
            "\n",
            "\tTrain Loss: 0.000 | Train. Acc: 100.00%\n",
            "\tValid Loss: 0.523 | Valid. Acc: 92.30%\n",
            "\n",
            "\tTrain Loss: 0.000 | Train. Acc: 100.00%\n",
            "\tValid Loss: 0.522 | Valid. Acc: 92.11%\n",
            "\n",
            "\tTrain Loss: 0.000 | Train. Acc: 100.00%\n",
            "\tValid Loss: 0.523 | Valid. Acc: 92.50%\n",
            "\n",
            "\tTrain Loss: 0.000 | Train. Acc: 100.00%\n",
            "\tValid Loss: 0.520 | Valid. Acc: 91.91%\n",
            "\n",
            "\tTrain Loss: 0.000 | Train. Acc: 100.00%\n",
            "\tValid Loss: 0.524 | Valid. Acc: 92.30%\n",
            "\n",
            "\tTrain Loss: 0.000 | Train. Acc: 100.00%\n",
            "\tValid Loss: 0.525 | Valid. Acc: 92.30%\n",
            "\n",
            "\tTrain Loss: 0.000 | Train. Acc: 100.00%\n",
            "\tValid Loss: 0.523 | Valid. Acc: 92.30%\n",
            "\n",
            "\tTrain Loss: 0.000 | Train. Acc: 100.00%\n",
            "\tValid Loss: 0.529 | Valid. Acc: 92.50%\n",
            "\n",
            "\tTrain Loss: 0.000 | Train. Acc: 100.00%\n",
            "\tValid Loss: 0.520 | Valid. Acc: 92.63%\n",
            "\n",
            "\tTrain Loss: 0.000 | Train. Acc: 100.00%\n",
            "\tValid Loss: 0.526 | Valid. Acc: 92.11%\n",
            "\n",
            "\tTrain Loss: 0.000 | Train. Acc: 100.00%\n",
            "\tValid Loss: 0.532 | Valid. Acc: 92.30%\n",
            "\n"
          ]
        }
      ],
      "source": [
        "EPOCH_NUMBER = 40\n",
        "best_valid = 0.935\n",
        "for epoch in range(1,EPOCH_NUMBER+1):\n",
        "\n",
        "    train_loss,train_acc = train(model,training_dl,optimizer,criterion)\n",
        "\n",
        "    test_loss,test_acc = evaluate(model,testing_dl,criterion)\n",
        "    valid_loss, valid_acc = evaluate(model, validing_dl, criterion)\n",
        "\n",
        "    # Showing statistics\n",
        "    print(f'\\tTrain Loss: {train_loss:.3f} | Train. Acc: {train_acc*100:.2f}%')\n",
        "    print(f'\\tValid Loss: {valid_loss:.3f} | Valid. Acc: {valid_acc*100:.2f}%')\n",
        "    if (valid_acc >= best_valid ):\n",
        "      best_valid = valid_acc\n",
        "      torch.save(model.state_dict(), f'model_{valid_acc}.pth')\n",
        "      print(f'Test. Acc: {test_acc*100:.2f}%')\n",
        "    print()"
      ]
    },
    {
      "cell_type": "code",
      "execution_count": null,
      "metadata": {
        "id": "1mkv2VfG8jps"
      },
      "outputs": [],
      "source": [
        "import matplotlib.pyplot as plt\n",
        "import seaborn as sns\n",
        "from sklearn.metrics import confusion_matrix\n",
        "from sklearn.metrics import confusion_matrix, precision_score, recall_score, f1_score, accuracy_score\n"
      ]
    },
    {
      "cell_type": "code",
      "execution_count": null,
      "metadata": {
        "id": "gxRnQTUA8yKe",
        "colab": {
          "base_uri": "https://localhost:8080/",
          "height": 735
        },
        "outputId": "370b01e9-9cb5-42a2-b71e-a6eae24a4a0e"
      },
      "outputs": [
        {
          "output_type": "stream",
          "name": "stdout",
          "text": [
            "Loss: 0.5261 | Accuracy: 0.9191 | Precision: 0.8143 | Recall: 0.6951 | F1: 0.7500\n"
          ]
        },
        {
          "output_type": "display_data",
          "data": {
            "text/plain": [
              "<Figure size 1000x800 with 2 Axes>"
            ],
            "image/png": "[encoded data removed]"
          },
          "metadata": {}
        }
      ],
      "source": [
        "def evaluate2(model, iterator, criterion):\n",
        "    epoch_loss = 0.0\n",
        "    epoch_acc = 0.0\n",
        "    y_true = []\n",
        "    y_pred = []\n",
        "\n",
        "    # deactivate the dropouts\n",
        "    model.eval()\n",
        "\n",
        "    # Sets require_grad flat False\n",
        "    with torch.no_grad():\n",
        "        for batch in iterator:\n",
        "            text, text_lengths = batch[0], batch[1]\n",
        "            text = text.to(device)\n",
        "\n",
        "            predictions = model(text, text_lengths)\n",
        "            y_test = batch[2].reshape(-1, 1)\n",
        "            y_test = y_test.to(device)\n",
        "\n",
        "            loss = criterion(predictions, y_test.float())\n",
        "\n",
        "            acc = binary_accuracy(predictions, y_test.float())\n",
        "\n",
        "            # Keep track of loss and accuracy\n",
        "            epoch_loss += loss.item()\n",
        "            epoch_acc += acc.item()\n",
        "\n",
        "            # Append predicted and true labels to the lists\n",
        "            y_pred.extend(torch.round(predictions).cpu().numpy())\n",
        "            y_true.extend(y_test.cpu().numpy())\n",
        "\n",
        "    avg_loss = epoch_loss / len(iterator)\n",
        "    avg_acc = epoch_acc / len(iterator)\n",
        "\n",
        "    precision = precision_score(y_true, y_pred)\n",
        "    recall = recall_score(y_true, y_pred)\n",
        "    f1 = f1_score(y_true, y_pred)\n",
        "    accuracy = accuracy_score(y_true, y_pred)\n",
        "\n",
        "    return avg_loss, avg_acc, precision, recall, f1, accuracy, y_true, y_pred\n",
        "\n",
        "\n",
        "loss, accuracy, precision, recall, f1, accuracy_sklearn, true_labels, predicted_labels = evaluate2(model, validing_dl, criterion)\n",
        "\n",
        "# Print the evaluation metrics\n",
        "print(f\"Loss: {loss:.4f} | Accuracy: {accuracy:.4f} | Precision: {precision:.4f} | Recall: {recall:.4f} | F1: {f1:.4f}\")\n",
        "# Calculate the confusion matrix\n",
        "cm = confusion_matrix(true_labels, predicted_labels)\n",
        "\n",
        "# Plot the confusion matrix\n",
        "plt.figure(figsize=(10, 8))\n",
        "sns.heatmap(cm, annot=True, fmt='d', cmap='Blues', xticklabels=[0, 1], yticklabels=[0, 1])\n",
        "plt.xlabel('Predicted Labels')\n",
        "plt.ylabel('True Labels')\n",
        "plt.title('Confusion Matrix using pre-trained model keepitreal/vietnamese-sbert')\n",
        "plt.show()\n"
      ]
    },
    {
      "cell_type": "code",
      "execution_count": null,
      "metadata": {
        "id": "3wF9CFghjr8J"
      },
      "outputs": [],
      "source": [
        "def input_test(text, tokenizer, model, device):\n",
        "    tokens = tokenizer.tokenize(text)\n",
        "    ids = tokenizer.convert_tokens_to_ids(tokens)\n",
        "    ids = torch.tensor(ids, dtype=torch.long).unsqueeze(0)\n",
        "\n",
        "    ids = ids.to(device)\n",
        "\n",
        "    # Get the length of the input sequence\n",
        "    length = torch.tensor(ids.shape[1], dtype=torch.long).unsqueeze(0)\n",
        "\n",
        "    # Evaluate the model on the input text\n",
        "    with torch.no_grad():\n",
        "        model.eval()\n",
        "        predictions = model(ids, length)\n",
        "\n",
        "\n",
        "    binary_predictions = torch.round(predictions).cpu().numpy()\n",
        "\n",
        "    return binary_predictions[0][0]\n"
      ]
    },
    {
      "cell_type": "code",
      "execution_count": null,
      "metadata": {
        "id": "5L5vS-Yhs1rh",
        "colab": {
          "base_uri": "https://localhost:8080/"
        },
        "outputId": "5e276ad0-55e6-49b6-ac99-1ea61ff87ae4"
      },
      "outputs": [
        {
          "output_type": "stream",
          "name": "stdout",
          "text": [
            "Enter the text you want to test: Hai\n",
            "Đây là tin giả\n",
            "Predicted Label: 1.0\n"
          ]
        }
      ],
      "source": [
        "A = input(\"Enter the text you want to test: \")\n",
        "result = input_test(A, tokenizer, model, device)\n",
        "\n",
        "if (int(result) == 0):\n",
        "  print(\"Đây là tin thật\")\n",
        "else:\n",
        "  print(\"Đây là tin giả\")\n",
        "\n",
        "print(\"Predicted Label:\", result)"
      ]
    },
    {
      "cell_type": "code",
      "execution_count": null,
      "metadata": {
        "id": "JaD3Su2bK37s"
      },
      "outputs": [],
      "source": [
        "torch.save(model.state_dict(), 'model.pth')"
      ]
    }
  ],
  "metadata": {
    "accelerator": "GPU",
    "colab": {
      "provenance": [],
      "gpuType": "T4"
    },
    "kernelspec": {
      "display_name": "Python 3",
      "name": "python3"
    },
    "language_info": {
      "codemirror_mode": {
        "name": "ipython",
        "version": 3
      },
      "file_extension": ".py",
      "mimetype": "text/x-python",
      "name": "python",
      "nbconvert_exporter": "python",
      "pygments_lexer": "ipython3",
      "version": "3.9.17"
    }
  },
  "nbformat": 4,
  "nbformat_minor": 0
}